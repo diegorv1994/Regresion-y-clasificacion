{
 "cells": [
  {
   "cell_type": "markdown",
   "metadata": {},
   "source": [
    "# Regresion"
   ]
  },
  {
   "cell_type": "markdown",
   "metadata": {},
   "source": [
    "## Regresion lineal y regularizacion"
   ]
  },
  {
   "cell_type": "code",
   "execution_count": 2,
   "metadata": {},
   "outputs": [
    {
     "data": {
      "text/html": [
       "<div>\n",
       "<style scoped>\n",
       "    .dataframe tbody tr th:only-of-type {\n",
       "        vertical-align: middle;\n",
       "    }\n",
       "\n",
       "    .dataframe tbody tr th {\n",
       "        vertical-align: top;\n",
       "    }\n",
       "\n",
       "    .dataframe thead th {\n",
       "        text-align: right;\n",
       "    }\n",
       "</style>\n",
       "<table border=\"1\" class=\"dataframe\">\n",
       "  <thead>\n",
       "    <tr style=\"text-align: right;\">\n",
       "      <th></th>\n",
       "      <th>CRIM</th>\n",
       "      <th>ZN</th>\n",
       "      <th>INDUS</th>\n",
       "      <th>CHAS</th>\n",
       "      <th>NOX</th>\n",
       "      <th>RM</th>\n",
       "      <th>AGE</th>\n",
       "      <th>DIS</th>\n",
       "      <th>RAD</th>\n",
       "      <th>TAX</th>\n",
       "      <th>PTRATIO</th>\n",
       "      <th>B</th>\n",
       "      <th>LSTAT</th>\n",
       "      <th>Price</th>\n",
       "    </tr>\n",
       "  </thead>\n",
       "  <tbody>\n",
       "    <tr>\n",
       "      <td>0</td>\n",
       "      <td>0.00632</td>\n",
       "      <td>18.0</td>\n",
       "      <td>2.31</td>\n",
       "      <td>0.0</td>\n",
       "      <td>0.538</td>\n",
       "      <td>6.575</td>\n",
       "      <td>65.2</td>\n",
       "      <td>4.0900</td>\n",
       "      <td>1.0</td>\n",
       "      <td>296.0</td>\n",
       "      <td>15.3</td>\n",
       "      <td>396.90</td>\n",
       "      <td>4.98</td>\n",
       "      <td>24.0</td>\n",
       "    </tr>\n",
       "    <tr>\n",
       "      <td>1</td>\n",
       "      <td>0.02731</td>\n",
       "      <td>0.0</td>\n",
       "      <td>7.07</td>\n",
       "      <td>0.0</td>\n",
       "      <td>0.469</td>\n",
       "      <td>6.421</td>\n",
       "      <td>78.9</td>\n",
       "      <td>4.9671</td>\n",
       "      <td>2.0</td>\n",
       "      <td>242.0</td>\n",
       "      <td>17.8</td>\n",
       "      <td>396.90</td>\n",
       "      <td>9.14</td>\n",
       "      <td>21.6</td>\n",
       "    </tr>\n",
       "    <tr>\n",
       "      <td>2</td>\n",
       "      <td>0.02729</td>\n",
       "      <td>0.0</td>\n",
       "      <td>7.07</td>\n",
       "      <td>0.0</td>\n",
       "      <td>0.469</td>\n",
       "      <td>7.185</td>\n",
       "      <td>61.1</td>\n",
       "      <td>4.9671</td>\n",
       "      <td>2.0</td>\n",
       "      <td>242.0</td>\n",
       "      <td>17.8</td>\n",
       "      <td>392.83</td>\n",
       "      <td>4.03</td>\n",
       "      <td>34.7</td>\n",
       "    </tr>\n",
       "    <tr>\n",
       "      <td>3</td>\n",
       "      <td>0.03237</td>\n",
       "      <td>0.0</td>\n",
       "      <td>2.18</td>\n",
       "      <td>0.0</td>\n",
       "      <td>0.458</td>\n",
       "      <td>6.998</td>\n",
       "      <td>45.8</td>\n",
       "      <td>6.0622</td>\n",
       "      <td>3.0</td>\n",
       "      <td>222.0</td>\n",
       "      <td>18.7</td>\n",
       "      <td>394.63</td>\n",
       "      <td>2.94</td>\n",
       "      <td>33.4</td>\n",
       "    </tr>\n",
       "    <tr>\n",
       "      <td>4</td>\n",
       "      <td>0.06905</td>\n",
       "      <td>0.0</td>\n",
       "      <td>2.18</td>\n",
       "      <td>0.0</td>\n",
       "      <td>0.458</td>\n",
       "      <td>7.147</td>\n",
       "      <td>54.2</td>\n",
       "      <td>6.0622</td>\n",
       "      <td>3.0</td>\n",
       "      <td>222.0</td>\n",
       "      <td>18.7</td>\n",
       "      <td>396.90</td>\n",
       "      <td>5.33</td>\n",
       "      <td>36.2</td>\n",
       "    </tr>\n",
       "  </tbody>\n",
       "</table>\n",
       "</div>"
      ],
      "text/plain": [
       "      CRIM    ZN  INDUS  CHAS    NOX     RM   AGE     DIS  RAD    TAX  \\\n",
       "0  0.00632  18.0   2.31   0.0  0.538  6.575  65.2  4.0900  1.0  296.0   \n",
       "1  0.02731   0.0   7.07   0.0  0.469  6.421  78.9  4.9671  2.0  242.0   \n",
       "2  0.02729   0.0   7.07   0.0  0.469  7.185  61.1  4.9671  2.0  242.0   \n",
       "3  0.03237   0.0   2.18   0.0  0.458  6.998  45.8  6.0622  3.0  222.0   \n",
       "4  0.06905   0.0   2.18   0.0  0.458  7.147  54.2  6.0622  3.0  222.0   \n",
       "\n",
       "   PTRATIO       B  LSTAT  Price  \n",
       "0     15.3  396.90   4.98   24.0  \n",
       "1     17.8  396.90   9.14   21.6  \n",
       "2     17.8  392.83   4.03   34.7  \n",
       "3     18.7  394.63   2.94   33.4  \n",
       "4     18.7  396.90   5.33   36.2  "
      ]
     },
     "execution_count": 2,
     "metadata": {},
     "output_type": "execute_result"
    }
   ],
   "source": [
    "import pandas as pd\n",
    "\n",
    "from sklearn.datasets import load_boston\n",
    "from sklearn.model_selection import train_test_split\n",
    "\n",
    "from sklearn.linear_model import LinearRegression\n",
    "from sklearn.linear_model import Lasso\n",
    "from sklearn.linear_model import Ridge\n",
    "from sklearn.linear_model import ElasticNet\n",
    "\n",
    "boston=load_boston()\n",
    "df=pd.DataFrame(boston.data, columns=boston.feature_names)\n",
    "df['Price']=boston.target\n",
    "\n",
    "df.head()"
   ]
  },
  {
   "cell_type": "code",
   "execution_count": 5,
   "metadata": {},
   "outputs": [],
   "source": [
    "?load_boston"
   ]
  },
  {
   "cell_type": "code",
   "execution_count": 4,
   "metadata": {},
   "outputs": [],
   "source": [
    "X=df.drop('Price', axis=1)\n",
    "y=df.Price"
   ]
  },
  {
   "cell_type": "code",
   "execution_count": 6,
   "metadata": {},
   "outputs": [],
   "source": [
    "X_train, X_test, y_train, y_test=train_test_split(X, y, test_size=0.2)"
   ]
  },
  {
   "cell_type": "code",
   "execution_count": 7,
   "metadata": {},
   "outputs": [
    {
     "data": {
      "text/plain": [
       "LinearRegression(copy_X=True, fit_intercept=True, n_jobs=None, normalize=False)"
      ]
     },
     "execution_count": 7,
     "metadata": {},
     "output_type": "execute_result"
    }
   ],
   "source": [
    "# modelos\n",
    "\n",
    "linreg=LinearRegression()\n",
    "linreg.fit(X_train, y_train)"
   ]
  },
  {
   "cell_type": "code",
   "execution_count": 8,
   "metadata": {},
   "outputs": [
    {
     "data": {
      "text/plain": [
       "Lasso(alpha=1.0, copy_X=True, fit_intercept=True, max_iter=1000,\n",
       "      normalize=False, positive=False, precompute=False, random_state=None,\n",
       "      selection='cyclic', tol=0.0001, warm_start=False)"
      ]
     },
     "execution_count": 8,
     "metadata": {},
     "output_type": "execute_result"
    }
   ],
   "source": [
    "lasso=Lasso()\n",
    "lasso.fit(X_train, y_train)"
   ]
  },
  {
   "cell_type": "code",
   "execution_count": 9,
   "metadata": {},
   "outputs": [
    {
     "data": {
      "text/plain": [
       "Ridge(alpha=1.0, copy_X=True, fit_intercept=True, max_iter=None,\n",
       "      normalize=False, random_state=None, solver='auto', tol=0.001)"
      ]
     },
     "execution_count": 9,
     "metadata": {},
     "output_type": "execute_result"
    }
   ],
   "source": [
    "ridge=Ridge()\n",
    "ridge.fit(X_train, y_train)"
   ]
  },
  {
   "cell_type": "code",
   "execution_count": 23,
   "metadata": {},
   "outputs": [
    {
     "data": {
      "text/plain": [
       "ElasticNet(alpha=0.01, copy_X=True, fit_intercept=True, l1_ratio=0.5,\n",
       "           max_iter=1000, normalize=False, positive=False, precompute=False,\n",
       "           random_state=None, selection='cyclic', tol=0.0001, warm_start=False)"
      ]
     },
     "execution_count": 23,
     "metadata": {},
     "output_type": "execute_result"
    }
   ],
   "source": [
    "elastic=ElasticNet(alpha=0.01)\n",
    "elastic.fit(X_train, y_train)"
   ]
  },
  {
   "cell_type": "code",
   "execution_count": 11,
   "metadata": {},
   "outputs": [
    {
     "name": "stdout",
     "output_type": "stream",
     "text": [
      "0.748100021394221 0.6990862349812188\n"
     ]
    }
   ],
   "source": [
    "train_score=linreg.score(X_train, y_train)\n",
    "test_score=linreg.score(X_test, y_test)\n",
    "print (train_score, test_score)"
   ]
  },
  {
   "cell_type": "code",
   "execution_count": 12,
   "metadata": {},
   "outputs": [
    {
     "name": "stdout",
     "output_type": "stream",
     "text": [
      "0.6860427119916477 0.6879857530739206\n"
     ]
    }
   ],
   "source": [
    "train_score=lasso.score(X_train, y_train)\n",
    "test_score=lasso.score(X_test, y_test)\n",
    "print (train_score, test_score)"
   ]
  },
  {
   "cell_type": "code",
   "execution_count": 13,
   "metadata": {},
   "outputs": [
    {
     "name": "stdout",
     "output_type": "stream",
     "text": [
      "0.745064329004498 0.7046320018888819\n"
     ]
    }
   ],
   "source": [
    "train_score=ridge.score(X_train, y_train)\n",
    "test_score=ridge.score(X_test, y_test)\n",
    "print (train_score, test_score)"
   ]
  },
  {
   "cell_type": "code",
   "execution_count": 24,
   "metadata": {},
   "outputs": [
    {
     "name": "stdout",
     "output_type": "stream",
     "text": [
      "0.7417335555773477 0.7050253678250442\n"
     ]
    }
   ],
   "source": [
    "train_score=elastic.score(X_train, y_train)\n",
    "test_score=elastic.score(X_test, y_test)\n",
    "print (train_score, test_score)"
   ]
  },
  {
   "cell_type": "code",
   "execution_count": null,
   "metadata": {},
   "outputs": [],
   "source": [
    "from sklearn.metrics import mean_squared_error as mse\n",
    "\n",
    "rmse=mse(y_test, elastic.predict(X_test))**(0.5)\n",
    "rmse"
   ]
  },
  {
   "cell_type": "markdown",
   "metadata": {},
   "source": [
    "## SVR"
   ]
  },
  {
   "cell_type": "code",
   "execution_count": 28,
   "metadata": {},
   "outputs": [
    {
     "data": {
      "text/plain": [
       "SVR(C=1.0, cache_size=200, coef0=0.0, degree=3, epsilon=0.1,\n",
       "    gamma='auto_deprecated', kernel='rbf', max_iter=-1, shrinking=True,\n",
       "    tol=0.001, verbose=False)"
      ]
     },
     "execution_count": 28,
     "metadata": {},
     "output_type": "execute_result"
    }
   ],
   "source": [
    "import warnings\n",
    "warnings.simplefilter('ignore')\n",
    "\n",
    "from sklearn.svm import SVR\n",
    "\n",
    "svr=SVR()\n",
    "svr.fit(X_train, y_train)"
   ]
  },
  {
   "cell_type": "code",
   "execution_count": 29,
   "metadata": {},
   "outputs": [
    {
     "name": "stdout",
     "output_type": "stream",
     "text": [
      "0.13870643771270086 -0.007770532133630548\n"
     ]
    }
   ],
   "source": [
    "train_score=svr.score(X_train, y_train)\n",
    "test_score=svr.score(X_test, y_test)\n",
    "print (train_score, test_score)"
   ]
  },
  {
   "cell_type": "markdown",
   "metadata": {},
   "source": [
    "## Random Forest"
   ]
  },
  {
   "cell_type": "code",
   "execution_count": 30,
   "metadata": {},
   "outputs": [
    {
     "data": {
      "text/plain": [
       "RandomForestRegressor(bootstrap=True, criterion='mse', max_depth=None,\n",
       "                      max_features='auto', max_leaf_nodes=None,\n",
       "                      min_impurity_decrease=0.0, min_impurity_split=None,\n",
       "                      min_samples_leaf=1, min_samples_split=2,\n",
       "                      min_weight_fraction_leaf=0.0, n_estimators=10,\n",
       "                      n_jobs=None, oob_score=False, random_state=None,\n",
       "                      verbose=0, warm_start=False)"
      ]
     },
     "execution_count": 30,
     "metadata": {},
     "output_type": "execute_result"
    }
   ],
   "source": [
    "from sklearn.ensemble import RandomForestRegressor as RFR\n",
    "\n",
    "rf=RFR()\n",
    "rf.fit(X_train, y_train)"
   ]
  },
  {
   "cell_type": "code",
   "execution_count": 31,
   "metadata": {},
   "outputs": [
    {
     "name": "stdout",
     "output_type": "stream",
     "text": [
      "0.9641054425304734 0.9100261155630658\n"
     ]
    }
   ],
   "source": [
    "train_score=rf.score(X_train, y_train)\n",
    "test_score=rf.score(X_test, y_test)\n",
    "print (train_score, test_score)"
   ]
  },
  {
   "cell_type": "code",
   "execution_count": 41,
   "metadata": {},
   "outputs": [],
   "source": [
    "# gridsearching\n",
    "from sklearn.model_selection import GridSearchCV\n",
    "\n",
    "def grid(modelo, param, cv=5):\n",
    "    grid=GridSearchCV(modelo, param, cv=cv, iid=True, n_jobs=-1)\n",
    "    grid.fit(X, y)\n",
    "    \n",
    "    print (grid.score(X_train, y_train), grid.score(X_test, y_test))\n",
    "    print (grid.best_params_)\n",
    "    print (grid.best_score_)\n",
    "    \n",
    "    return grid.best_estimator_.fit(X_train, y_train)"
   ]
  },
  {
   "cell_type": "code",
   "execution_count": 51,
   "metadata": {},
   "outputs": [
    {
     "name": "stdout",
     "output_type": "stream",
     "text": [
      "0.9269079993664873 0.9272174727628295\n",
      "{'max_leaf_nodes': 20, 'n_estimators': 26}\n",
      "0.6405917428227192\n",
      "CPU times: user 682 ms, sys: 109 ms, total: 791 ms\n",
      "Wall time: 3.3 s\n"
     ]
    },
    {
     "data": {
      "text/plain": [
       "RandomForestRegressor(bootstrap=True, criterion='mse', max_depth=None,\n",
       "                      max_features='auto', max_leaf_nodes=20,\n",
       "                      min_impurity_decrease=0.0, min_impurity_split=None,\n",
       "                      min_samples_leaf=1, min_samples_split=2,\n",
       "                      min_weight_fraction_leaf=0.0, n_estimators=26,\n",
       "                      n_jobs=None, oob_score=False, random_state=None,\n",
       "                      verbose=0, warm_start=False)"
      ]
     },
     "execution_count": 51,
     "metadata": {},
     "output_type": "execute_result"
    }
   ],
   "source": [
    "param={'max_leaf_nodes':[5,10,20, 50], 'n_estimators':[i+1 for i in range(50) if i%5==0]}\n",
    "\n",
    "%time grid(rf, param)"
   ]
  },
  {
   "cell_type": "code",
   "execution_count": 52,
   "metadata": {},
   "outputs": [
    {
     "name": "stdout",
     "output_type": "stream",
     "text": [
      "0.9654656824155339 0.9664968397541917\n",
      "{'max_leaf_nodes': 50, 'n_estimators': 41}\n",
      "0.6346123658088841\n"
     ]
    }
   ],
   "source": [
    "rf_gs= grid(rf, param)"
   ]
  },
  {
   "cell_type": "code",
   "execution_count": 53,
   "metadata": {},
   "outputs": [
    {
     "data": {
      "text/plain": [
       "array([15.10215993, 33.0976862 , 22.80993398, 10.12511922, 14.75229614,\n",
       "       10.56161799, 33.63494325, 20.54940274, 48.36117605, 21.3134652 ,\n",
       "       16.71350856, 19.77906526, 21.72803598, 23.75965768, 22.98082279,\n",
       "       19.76476245, 22.64803555, 19.32675558, 34.33969717, 22.28035147,\n",
       "       34.05006957, 21.10632131, 24.4240702 , 36.36910439, 17.16896342,\n",
       "       37.34199808,  7.98149981, 11.69909834, 20.2113765 , 10.96988706,\n",
       "       17.83996375, 20.1229443 , 20.71704645, 44.88258619, 24.45327293,\n",
       "       15.15320484, 20.54703638, 17.49988364, 24.20755377, 19.78584049,\n",
       "       11.8572506 , 45.22734086, 22.21725151, 15.93101502, 15.91644934,\n",
       "       27.16267701, 22.59956982, 20.63193348, 26.41028385, 21.94139486,\n",
       "       14.77402711, 32.83274907, 20.12205549, 14.95785312, 22.76852036,\n",
       "       33.34084544, 17.35174604, 30.92975437, 15.24520842, 29.95071108,\n",
       "       36.33306706, 31.83956688, 29.25225602, 12.39146735, 23.15366757,\n",
       "       19.78878778, 20.94032828, 23.82392618, 19.10213747, 23.86763342,\n",
       "       22.05460749, 21.16172214, 19.52741502, 16.68530841, 27.21272872,\n",
       "        9.80732991, 20.78526562, 24.44172749, 20.94652817, 28.02248161,\n",
       "       20.99846532, 24.92789831, 19.98064097, 19.51252501, 21.87295917,\n",
       "       23.47750754, 23.44392535, 16.54870383, 23.80548796, 26.09793105,\n",
       "       18.19998809, 20.9436212 , 38.73476126, 25.94396707, 32.25741515,\n",
       "       29.50891331,  9.31690091, 18.74514952, 14.02743306, 32.32692914,\n",
       "       33.20145886, 30.2289735 ])"
      ]
     },
     "execution_count": 53,
     "metadata": {},
     "output_type": "execute_result"
    }
   ],
   "source": [
    "y_pred=rf_gs.predict(X_test)\n",
    "y_pred"
   ]
  },
  {
   "cell_type": "code",
   "execution_count": 54,
   "metadata": {},
   "outputs": [
    {
     "data": {
      "text/plain": [
       "ExtraTreeRegressor(criterion='mse', max_depth=None, max_features='auto',\n",
       "                   max_leaf_nodes=None, min_impurity_decrease=0.0,\n",
       "                   min_impurity_split=None, min_samples_leaf=2,\n",
       "                   min_samples_split=2, min_weight_fraction_leaf=0.0,\n",
       "                   random_state=None, splitter='random')"
      ]
     },
     "execution_count": 54,
     "metadata": {},
     "output_type": "execute_result"
    }
   ],
   "source": [
    "from sklearn.tree import ExtraTreeRegressor as ETR\n",
    "\n",
    "etr=ETR(min_samples_leaf=2)\n",
    "etr.fit(X_train, y_train)"
   ]
  },
  {
   "cell_type": "code",
   "execution_count": 48,
   "metadata": {},
   "outputs": [
    {
     "name": "stdout",
     "output_type": "stream",
     "text": [
      "0.9552322876768367 0.8096757903783823\n"
     ]
    }
   ],
   "source": [
    "train_score=etr.score(X_train, y_train)\n",
    "test_score=etr.score(X_test, y_test)\n",
    "print (train_score, test_score)"
   ]
  },
  {
   "cell_type": "markdown",
   "metadata": {},
   "source": [
    "# Clasificacion"
   ]
  },
  {
   "cell_type": "markdown",
   "metadata": {},
   "source": [
    "## Regresion logistica"
   ]
  },
  {
   "cell_type": "code",
   "execution_count": 58,
   "metadata": {},
   "outputs": [],
   "source": [
    "# Version Custom\n",
    "\n",
    "import time\n",
    "import pandas as pd\n",
    "import numpy as np\n",
    "import matplotlib.pyplot as plt\n",
    "from scipy.optimize import minimize\n",
    "from numba import jit"
   ]
  },
  {
   "cell_type": "code",
   "execution_count": 59,
   "metadata": {},
   "outputs": [],
   "source": [
    "# funcion sigmoide\n",
    "\n",
    "def f(X,a):\n",
    "    return 1./(1.+np.exp(-np.dot(X,a)))"
   ]
  },
  {
   "cell_type": "code",
   "execution_count": 60,
   "metadata": {},
   "outputs": [],
   "source": [
    "# funcion de coste o perdida\n",
    "\n",
    "@jit()\n",
    "def coste(X,a,y,lambda_reg):              # funcion coste, funcion a minimizar \n",
    "    return -(np.sum(np.log(f(X,a)))+np.dot((y-1).T,(np.dot(X,a))))/y.size+lambda_reg/(2.0*y.size)*np.dot(a[1:],a[1:])"
   ]
  },
  {
   "cell_type": "code",
   "execution_count": 61,
   "metadata": {},
   "outputs": [],
   "source": [
    "@jit()\n",
    "def grad_coste(X,a,y,lambda_reg):          # gradiente de la funcion coste con regularizacion\n",
    "    return (np.dot(X.T,(f(X,a)-y)))/y.size+lambda_reg/(2.0*y.size)*np.concatenate(([0], a[1:])).T"
   ]
  },
  {
   "cell_type": "code",
   "execution_count": 62,
   "metadata": {},
   "outputs": [],
   "source": [
    "def normalizador(X):                # normalizador de X\n",
    "    X_media=X.mean(axis=0)          # media de X\n",
    "    X_std=X.std(axis=0)             # desviacion estandar de X\n",
    "    X_std[X_std==0]=1.0             # si hay alguna std=0 ponla a 1\n",
    "    X=(X-X_media)/X_std             # normaliza\n",
    "    X=np.insert(X, 0, 1, axis=1)    # esta linea añade una columna de 1, feature engineering [1, f1, f2.., fn, f1f2...] (mejora un 10%)\n",
    "    return X"
   ]
  },
  {
   "cell_type": "code",
   "execution_count": 63,
   "metadata": {},
   "outputs": [
    {
     "data": {
      "text/html": [
       "<div>\n",
       "<style scoped>\n",
       "    .dataframe tbody tr th:only-of-type {\n",
       "        vertical-align: middle;\n",
       "    }\n",
       "\n",
       "    .dataframe tbody tr th {\n",
       "        vertical-align: top;\n",
       "    }\n",
       "\n",
       "    .dataframe thead th {\n",
       "        text-align: right;\n",
       "    }\n",
       "</style>\n",
       "<table border=\"1\" class=\"dataframe\">\n",
       "  <thead>\n",
       "    <tr style=\"text-align: right;\">\n",
       "      <th></th>\n",
       "      <th>label</th>\n",
       "      <th>pixel0</th>\n",
       "      <th>pixel1</th>\n",
       "      <th>pixel2</th>\n",
       "      <th>pixel3</th>\n",
       "      <th>pixel4</th>\n",
       "      <th>pixel5</th>\n",
       "      <th>pixel6</th>\n",
       "      <th>pixel7</th>\n",
       "      <th>pixel8</th>\n",
       "      <th>...</th>\n",
       "      <th>pixel774</th>\n",
       "      <th>pixel775</th>\n",
       "      <th>pixel776</th>\n",
       "      <th>pixel777</th>\n",
       "      <th>pixel778</th>\n",
       "      <th>pixel779</th>\n",
       "      <th>pixel780</th>\n",
       "      <th>pixel781</th>\n",
       "      <th>pixel782</th>\n",
       "      <th>pixel783</th>\n",
       "    </tr>\n",
       "  </thead>\n",
       "  <tbody>\n",
       "    <tr>\n",
       "      <td>0</td>\n",
       "      <td>1</td>\n",
       "      <td>0</td>\n",
       "      <td>0</td>\n",
       "      <td>0</td>\n",
       "      <td>0</td>\n",
       "      <td>0</td>\n",
       "      <td>0</td>\n",
       "      <td>0</td>\n",
       "      <td>0</td>\n",
       "      <td>0</td>\n",
       "      <td>...</td>\n",
       "      <td>0</td>\n",
       "      <td>0</td>\n",
       "      <td>0</td>\n",
       "      <td>0</td>\n",
       "      <td>0</td>\n",
       "      <td>0</td>\n",
       "      <td>0</td>\n",
       "      <td>0</td>\n",
       "      <td>0</td>\n",
       "      <td>0</td>\n",
       "    </tr>\n",
       "    <tr>\n",
       "      <td>1</td>\n",
       "      <td>0</td>\n",
       "      <td>0</td>\n",
       "      <td>0</td>\n",
       "      <td>0</td>\n",
       "      <td>0</td>\n",
       "      <td>0</td>\n",
       "      <td>0</td>\n",
       "      <td>0</td>\n",
       "      <td>0</td>\n",
       "      <td>0</td>\n",
       "      <td>...</td>\n",
       "      <td>0</td>\n",
       "      <td>0</td>\n",
       "      <td>0</td>\n",
       "      <td>0</td>\n",
       "      <td>0</td>\n",
       "      <td>0</td>\n",
       "      <td>0</td>\n",
       "      <td>0</td>\n",
       "      <td>0</td>\n",
       "      <td>0</td>\n",
       "    </tr>\n",
       "    <tr>\n",
       "      <td>2</td>\n",
       "      <td>1</td>\n",
       "      <td>0</td>\n",
       "      <td>0</td>\n",
       "      <td>0</td>\n",
       "      <td>0</td>\n",
       "      <td>0</td>\n",
       "      <td>0</td>\n",
       "      <td>0</td>\n",
       "      <td>0</td>\n",
       "      <td>0</td>\n",
       "      <td>...</td>\n",
       "      <td>0</td>\n",
       "      <td>0</td>\n",
       "      <td>0</td>\n",
       "      <td>0</td>\n",
       "      <td>0</td>\n",
       "      <td>0</td>\n",
       "      <td>0</td>\n",
       "      <td>0</td>\n",
       "      <td>0</td>\n",
       "      <td>0</td>\n",
       "    </tr>\n",
       "    <tr>\n",
       "      <td>3</td>\n",
       "      <td>4</td>\n",
       "      <td>0</td>\n",
       "      <td>0</td>\n",
       "      <td>0</td>\n",
       "      <td>0</td>\n",
       "      <td>0</td>\n",
       "      <td>0</td>\n",
       "      <td>0</td>\n",
       "      <td>0</td>\n",
       "      <td>0</td>\n",
       "      <td>...</td>\n",
       "      <td>0</td>\n",
       "      <td>0</td>\n",
       "      <td>0</td>\n",
       "      <td>0</td>\n",
       "      <td>0</td>\n",
       "      <td>0</td>\n",
       "      <td>0</td>\n",
       "      <td>0</td>\n",
       "      <td>0</td>\n",
       "      <td>0</td>\n",
       "    </tr>\n",
       "    <tr>\n",
       "      <td>4</td>\n",
       "      <td>0</td>\n",
       "      <td>0</td>\n",
       "      <td>0</td>\n",
       "      <td>0</td>\n",
       "      <td>0</td>\n",
       "      <td>0</td>\n",
       "      <td>0</td>\n",
       "      <td>0</td>\n",
       "      <td>0</td>\n",
       "      <td>0</td>\n",
       "      <td>...</td>\n",
       "      <td>0</td>\n",
       "      <td>0</td>\n",
       "      <td>0</td>\n",
       "      <td>0</td>\n",
       "      <td>0</td>\n",
       "      <td>0</td>\n",
       "      <td>0</td>\n",
       "      <td>0</td>\n",
       "      <td>0</td>\n",
       "      <td>0</td>\n",
       "    </tr>\n",
       "  </tbody>\n",
       "</table>\n",
       "<p>5 rows × 785 columns</p>\n",
       "</div>"
      ],
      "text/plain": [
       "   label  pixel0  pixel1  pixel2  pixel3  pixel4  pixel5  pixel6  pixel7  \\\n",
       "0      1       0       0       0       0       0       0       0       0   \n",
       "1      0       0       0       0       0       0       0       0       0   \n",
       "2      1       0       0       0       0       0       0       0       0   \n",
       "3      4       0       0       0       0       0       0       0       0   \n",
       "4      0       0       0       0       0       0       0       0       0   \n",
       "\n",
       "   pixel8  ...  pixel774  pixel775  pixel776  pixel777  pixel778  pixel779  \\\n",
       "0       0  ...         0         0         0         0         0         0   \n",
       "1       0  ...         0         0         0         0         0         0   \n",
       "2       0  ...         0         0         0         0         0         0   \n",
       "3       0  ...         0         0         0         0         0         0   \n",
       "4       0  ...         0         0         0         0         0         0   \n",
       "\n",
       "   pixel780  pixel781  pixel782  pixel783  \n",
       "0         0         0         0         0  \n",
       "1         0         0         0         0  \n",
       "2         0         0         0         0  \n",
       "3         0         0         0         0  \n",
       "4         0         0         0         0  \n",
       "\n",
       "[5 rows x 785 columns]"
      ]
     },
     "execution_count": 63,
     "metadata": {},
     "output_type": "execute_result"
    }
   ],
   "source": [
    "datos=pd.read_csv('data/train_numeros.csv')\n",
    "datos.head()"
   ]
  },
  {
   "cell_type": "code",
   "execution_count": 64,
   "metadata": {},
   "outputs": [
    {
     "data": {
      "text/plain": [
       "(42000, 785)"
      ]
     },
     "execution_count": 64,
     "metadata": {},
     "output_type": "execute_result"
    }
   ],
   "source": [
    "matriz_datos=datos.values\n",
    "matriz_datos.shape"
   ]
  },
  {
   "cell_type": "code",
   "execution_count": 73,
   "metadata": {},
   "outputs": [
    {
     "data": {
      "image/png": "[encoded data removed]",
      "text/plain": [
       "<Figure size 360x360 with 1 Axes>"
      ]
     },
     "metadata": {
      "needs_background": "light"
     },
     "output_type": "display_data"
    }
   ],
   "source": [
    "plt.figure(figsize=(5,5))\n",
    "plt.imshow(matriz_datos[17, 1:].reshape(28,28))\n",
    "plt.show()"
   ]
  },
  {
   "cell_type": "code",
   "execution_count": 69,
   "metadata": {},
   "outputs": [
    {
     "name": "stdout",
     "output_type": "stream",
     "text": [
      "[[0. 1. 0. 0. 0. 0. 0. 0. 0. 0.]\n",
      " [1. 0. 0. 0. 0. 0. 0. 0. 0. 0.]\n",
      " [0. 1. 0. 0. 0. 0. 0. 0. 0. 0.]\n",
      " [0. 0. 0. 0. 1. 0. 0. 0. 0. 0.]\n",
      " [1. 0. 0. 0. 0. 0. 0. 0. 0. 0.]\n",
      " [1. 0. 0. 0. 0. 0. 0. 0. 0. 0.]\n",
      " [0. 0. 0. 0. 0. 0. 0. 1. 0. 0.]\n",
      " [0. 0. 0. 1. 0. 0. 0. 0. 0. 0.]\n",
      " [0. 0. 0. 0. 0. 1. 0. 0. 0. 0.]\n",
      " [0. 0. 0. 1. 0. 0. 0. 0. 0. 0.]]\n"
     ]
    }
   ],
   "source": [
    "Y=np.zeros((matriz_datos.shape[0], 10))\n",
    "for i in range(10):\n",
    "    Y[:,i]=np.where(matriz_datos[:, 0]==i, 1, 0)\n",
    "print (Y[0:10, :])"
   ]
  },
  {
   "cell_type": "code",
   "execution_count": 70,
   "metadata": {},
   "outputs": [
    {
     "data": {
      "text/plain": [
       "(42000, 784)"
      ]
     },
     "execution_count": 70,
     "metadata": {},
     "output_type": "execute_result"
    }
   ],
   "source": [
    "etiquetas=matriz_datos[:,0]\n",
    "X=matriz_datos[:, 1:]\n",
    "X.shape"
   ]
  },
  {
   "cell_type": "code",
   "execution_count": 71,
   "metadata": {},
   "outputs": [
    {
     "data": {
      "text/plain": [
       "(42000, 708)"
      ]
     },
     "execution_count": 71,
     "metadata": {},
     "output_type": "execute_result"
    }
   ],
   "source": [
    "X=X[:, X.sum(axis=0)!=0]\n",
    "X.shape"
   ]
  },
  {
   "cell_type": "code",
   "execution_count": 74,
   "metadata": {},
   "outputs": [],
   "source": [
    "X_train, Y_train=X[0:30000, :], Y[0:30000, :]\n",
    "etiquetas_train=etiquetas[0:30000]"
   ]
  },
  {
   "cell_type": "code",
   "execution_count": 75,
   "metadata": {},
   "outputs": [],
   "source": [
    "X_test, Y_test=X[30000:, :], Y[30000:, :]\n",
    "etiquetas_test=etiquetas[30000:]"
   ]
  },
  {
   "cell_type": "code",
   "execution_count": 76,
   "metadata": {},
   "outputs": [],
   "source": [
    "X_train_sk=X_train.copy()\n",
    "X_test_sk=X_test.copy()"
   ]
  },
  {
   "cell_type": "code",
   "execution_count": 77,
   "metadata": {},
   "outputs": [],
   "source": [
    "X_train=normalizador(X_train)\n",
    "X_test=normalizador(X_test)"
   ]
  },
  {
   "cell_type": "code",
   "execution_count": 78,
   "metadata": {},
   "outputs": [],
   "source": [
    "val_inicial=np.random.rand(X_train.shape[1])"
   ]
  },
  {
   "cell_type": "code",
   "execution_count": 79,
   "metadata": {},
   "outputs": [],
   "source": [
    "A_opt=np.zeros((X_train.shape[1], 10))"
   ]
  },
  {
   "cell_type": "code",
   "execution_count": 80,
   "metadata": {},
   "outputs": [],
   "source": [
    "lambda_reg=100."
   ]
  },
  {
   "cell_type": "code",
   "execution_count": 83,
   "metadata": {},
   "outputs": [
    {
     "name": "stdout",
     "output_type": "stream",
     "text": [
      "\n",
      "Optimizando 0 frente al resto\n",
      "`gtol` termination condition is satisfied.\n",
      "Number of iterations: 62, function evaluations: 62, CG iterations: 353, optimality: 5.45e-05, constraint violation: 0.00e+00, execution time:  2.2 s.\n",
      "Tiempo opt: 2.6348421573638916\n",
      "\n",
      "Optimizando 1 frente al resto\n",
      "`gtol` termination condition is satisfied.\n",
      "Number of iterations: 46, function evaluations: 46, CG iterations: 238, optimality: 9.74e-05, constraint violation: 0.00e+00, execution time:  1.6 s.\n",
      "Tiempo opt: 1.6432831287384033\n",
      "\n",
      "Optimizando 2 frente al resto\n",
      "`gtol` termination condition is satisfied.\n",
      "Number of iterations: 62, function evaluations: 62, CG iterations: 349, optimality: 7.47e-05, constraint violation: 0.00e+00, execution time:  2.3 s.\n",
      "Tiempo opt: 2.2919952869415283\n",
      "\n",
      "Optimizando 3 frente al resto\n",
      "`gtol` termination condition is satisfied.\n",
      "Number of iterations: 56, function evaluations: 56, CG iterations: 306, optimality: 7.03e-05, constraint violation: 0.00e+00, execution time:  2.0 s.\n",
      "Tiempo opt: 2.030089855194092\n",
      "\n",
      "Optimizando 4 frente al resto\n",
      "`gtol` termination condition is satisfied.\n",
      "Number of iterations: 69, function evaluations: 69, CG iterations: 405, optimality: 7.64e-05, constraint violation: 0.00e+00, execution time:  2.5 s.\n",
      "Tiempo opt: 2.533728837966919\n",
      "\n",
      "Optimizando 5 frente al resto\n",
      "`gtol` termination condition is satisfied.\n",
      "Number of iterations: 55, function evaluations: 55, CG iterations: 307, optimality: 8.27e-05, constraint violation: 0.00e+00, execution time:  2.0 s.\n",
      "Tiempo opt: 2.0209078788757324\n",
      "\n",
      "Optimizando 6 frente al resto\n",
      "`gtol` termination condition is satisfied.\n",
      "Number of iterations: 52, function evaluations: 52, CG iterations: 277, optimality: 9.15e-05, constraint violation: 0.00e+00, execution time:  1.8 s.\n",
      "Tiempo opt: 1.8701062202453613\n",
      "\n",
      "Optimizando 7 frente al resto\n",
      "`gtol` termination condition is satisfied.\n",
      "Number of iterations: 59, function evaluations: 59, CG iterations: 305, optimality: 8.51e-05, constraint violation: 0.00e+00, execution time:  2.2 s.\n",
      "Tiempo opt: 2.208714008331299\n",
      "\n",
      "Optimizando 8 frente al resto\n",
      "`gtol` termination condition is satisfied.\n",
      "Number of iterations: 53, function evaluations: 53, CG iterations: 306, optimality: 8.12e-05, constraint violation: 0.00e+00, execution time:  1.9 s.\n",
      "Tiempo opt: 1.9385032653808594\n",
      "\n",
      "Optimizando 9 frente al resto\n",
      "`gtol` termination condition is satisfied.\n",
      "Number of iterations: 71, function evaluations: 71, CG iterations: 493, optimality: 9.97e-05, constraint violation: 0.00e+00, execution time:  2.7 s.\n",
      "Tiempo opt: 2.6839487552642822\n",
      "Tiempo total: 21.857967138290405\n"
     ]
    }
   ],
   "source": [
    "# optimizacion\n",
    "inicio_opt=time.time()\n",
    "for i in range(10):\n",
    "    print ('\\nOptimizando {} frente al resto'.format(i))\n",
    "    \n",
    "    def opt_coste(a):\n",
    "        return coste(X_train, a, Y_train[:, i], lambda_reg)\n",
    "    \n",
    "    def opt_grad_coste(a):\n",
    "        return grad_coste(X_train, a, Y_train[:, i], lambda_reg)\n",
    "    \n",
    "    metodo='trust-constr'\n",
    "    i_opt=time.time()\n",
    "    \n",
    "    modelo=minimize(opt_coste, val_inicial, method=metodo, jac=opt_grad_coste, tol=1e-4, options={'disp':True})\n",
    "    \n",
    "    print ('Tiempo opt: {}'.format(time.time()-i_opt))\n",
    "    \n",
    "    A_opt[:, i]=modelo.x\n",
    "    \n",
    "t_custom=time.time()-inicio_opt\n",
    "print ('Tiempo total: {}'.format(t_custom))"
   ]
  },
  {
   "cell_type": "code",
   "execution_count": 84,
   "metadata": {},
   "outputs": [],
   "source": [
    "y_pred=[]                  # etiquetas predichas\n",
    "y_prob=[]                  # probabilidades de las etiquetas predichas\n",
    "\n",
    "def resumen(datos):        # testeo\n",
    "    for e in datos:\n",
    "        nombre, etiqueta, Xs=e         \n",
    "        etiq=etiqueta.size\n",
    "        probs=np.zeros((etiq,2))      # etiquetas con su probabilidad\n",
    "        cuenta=0                      # conteo de aciertos\n",
    "        for muestra in range(etiq): \n",
    "            for n in range(10):\n",
    "                alfa=A_opt[:,n]       # parametros de softmax\n",
    "                probs[n,0]=n\n",
    "                probs[n,1]=f(Xs[muestra,:],alfa)      # evaluacion de la prediccion\n",
    "                \n",
    "            probs=probs[probs[:,1].argsort()[::-1]]   # se pone la prob mas alta al principio\n",
    "            y_pred.append(probs[0,0])\n",
    "            y_prob.append(probs[0,1])\n",
    "            if probs[0,0]==etiqueta[muestra]:         # si se acierta +1\n",
    "                cuenta+=1\n",
    "        print (\"\\n{}\".format(nombre))\n",
    "        print (\"{} correctos de {} ==> {:.4}% correcto\".format(cuenta, etiq, cuenta/etiq*100))"
   ]
  },
  {
   "cell_type": "code",
   "execution_count": 85,
   "metadata": {},
   "outputs": [
    {
     "name": "stdout",
     "output_type": "stream",
     "text": [
      "\n",
      "Entranamiento  :\n",
      "27948 correctos de 30000 ==> 93.16% correcto\n",
      "\n",
      "Test  :\n",
      "10979 correctos de 12000 ==> 91.49% correcto\n"
     ]
    }
   ],
   "source": [
    "resumen([('Entranamiento  :', etiquetas_train, X_train)])\n",
    "resumen([('Test  :', etiquetas_test, X_test)])"
   ]
  },
  {
   "cell_type": "code",
   "execution_count": 100,
   "metadata": {},
   "outputs": [
    {
     "data": {
      "text/html": [
       "<div>\n",
       "<style scoped>\n",
       "    .dataframe tbody tr th:only-of-type {\n",
       "        vertical-align: middle;\n",
       "    }\n",
       "\n",
       "    .dataframe tbody tr th {\n",
       "        vertical-align: top;\n",
       "    }\n",
       "\n",
       "    .dataframe thead th {\n",
       "        text-align: right;\n",
       "    }\n",
       "</style>\n",
       "<table border=\"1\" class=\"dataframe\">\n",
       "  <thead>\n",
       "    <tr style=\"text-align: right;\">\n",
       "      <th></th>\n",
       "      <th>1</th>\n",
       "      <th>2</th>\n",
       "      <th>3</th>\n",
       "      <th>4</th>\n",
       "      <th>5</th>\n",
       "      <th>6</th>\n",
       "      <th>7</th>\n",
       "      <th>8</th>\n",
       "      <th>9</th>\n",
       "      <th>10</th>\n",
       "    </tr>\n",
       "  </thead>\n",
       "  <tbody>\n",
       "    <tr>\n",
       "      <td>0</td>\n",
       "      <td>-9.135333</td>\n",
       "      <td>-11.072623</td>\n",
       "      <td>-6.263494</td>\n",
       "      <td>-6.433293</td>\n",
       "      <td>-8.817327</td>\n",
       "      <td>-6.357304</td>\n",
       "      <td>-8.386161</td>\n",
       "      <td>-8.768231</td>\n",
       "      <td>-5.354880</td>\n",
       "      <td>-7.568052</td>\n",
       "    </tr>\n",
       "    <tr>\n",
       "      <td>1</td>\n",
       "      <td>-0.000154</td>\n",
       "      <td>-0.001891</td>\n",
       "      <td>-0.006034</td>\n",
       "      <td>-0.006346</td>\n",
       "      <td>-0.003047</td>\n",
       "      <td>-0.010450</td>\n",
       "      <td>0.009206</td>\n",
       "      <td>-0.000621</td>\n",
       "      <td>-0.009780</td>\n",
       "      <td>-0.002956</td>\n",
       "    </tr>\n",
       "    <tr>\n",
       "      <td>2</td>\n",
       "      <td>-0.002646</td>\n",
       "      <td>0.005608</td>\n",
       "      <td>0.000239</td>\n",
       "      <td>-0.002166</td>\n",
       "      <td>-0.005804</td>\n",
       "      <td>0.002928</td>\n",
       "      <td>0.010238</td>\n",
       "      <td>0.004819</td>\n",
       "      <td>0.002308</td>\n",
       "      <td>-0.004590</td>\n",
       "    </tr>\n",
       "    <tr>\n",
       "      <td>3</td>\n",
       "      <td>0.001030</td>\n",
       "      <td>-0.002578</td>\n",
       "      <td>0.010749</td>\n",
       "      <td>0.001766</td>\n",
       "      <td>0.002058</td>\n",
       "      <td>-0.005203</td>\n",
       "      <td>-0.011663</td>\n",
       "      <td>-0.002932</td>\n",
       "      <td>0.000374</td>\n",
       "      <td>0.003482</td>\n",
       "    </tr>\n",
       "    <tr>\n",
       "      <td>4</td>\n",
       "      <td>-0.000597</td>\n",
       "      <td>0.001873</td>\n",
       "      <td>0.010018</td>\n",
       "      <td>0.002629</td>\n",
       "      <td>-0.000373</td>\n",
       "      <td>0.002053</td>\n",
       "      <td>-0.006466</td>\n",
       "      <td>0.000710</td>\n",
       "      <td>0.005352</td>\n",
       "      <td>0.001215</td>\n",
       "    </tr>\n",
       "  </tbody>\n",
       "</table>\n",
       "</div>"
      ],
      "text/plain": [
       "         1          2         3         4         5         6         7   \\\n",
       "0 -9.135333 -11.072623 -6.263494 -6.433293 -8.817327 -6.357304 -8.386161   \n",
       "1 -0.000154  -0.001891 -0.006034 -0.006346 -0.003047 -0.010450  0.009206   \n",
       "2 -0.002646   0.005608  0.000239 -0.002166 -0.005804  0.002928  0.010238   \n",
       "3  0.001030  -0.002578  0.010749  0.001766  0.002058 -0.005203 -0.011663   \n",
       "4 -0.000597   0.001873  0.010018  0.002629 -0.000373  0.002053 -0.006466   \n",
       "\n",
       "         8         9         10  \n",
       "0 -8.768231 -5.354880 -7.568052  \n",
       "1 -0.000621 -0.009780 -0.002956  \n",
       "2  0.004819  0.002308 -0.004590  \n",
       "3 -0.002932  0.000374  0.003482  \n",
       "4  0.000710  0.005352  0.001215  "
      ]
     },
     "execution_count": 100,
     "metadata": {},
     "output_type": "execute_result"
    }
   ],
   "source": [
    "df=pd.DataFrame(A_opt, columns=[i+1 for i in range(A_opt.shape[1])])  # se guardan los parametros softmax en csv\n",
    "#df.to_csv('alfas.csv', index=False)\n",
    "df.head()"
   ]
  },
  {
   "cell_type": "code",
   "execution_count": 87,
   "metadata": {},
   "outputs": [],
   "source": [
    "# Version sklearn\n",
    "\n",
    "from sklearn.linear_model import LogisticRegression"
   ]
  },
  {
   "cell_type": "code",
   "execution_count": 96,
   "metadata": {},
   "outputs": [
    {
     "data": {
      "text/plain": [
       "4.033091068267822"
      ]
     },
     "execution_count": 96,
     "metadata": {},
     "output_type": "execute_result"
    }
   ],
   "source": [
    "ini_opt_sk=time.time()\n",
    "\n",
    "logreg=LogisticRegression(C=0.01, penalty='l2', tol=0.0001, max_iter=70, solver='lbfgs', multi_class='multinomial')\n",
    "logreg.fit(X_train_sk, etiquetas_train)\n",
    "t_sklearn=time.time()-ini_opt_sk\n",
    "t_sklearn"
   ]
  },
  {
   "cell_type": "code",
   "execution_count": 97,
   "metadata": {},
   "outputs": [],
   "source": [
    "def resumen_sk(datos):\n",
    "    for e in datos:\n",
    "        nombre, etiqueta, Xs=e\n",
    "        etiq=etiqueta.size\n",
    "        \n",
    "        y_pred_sk=logreg.predict(Xs)\n",
    "        \n",
    "        cuenta=0\n",
    "        for muestra in range(etiq):\n",
    "            if y_pred_sk[muestra]==etiqueta[muestra]:         \n",
    "                cuenta+=1\n",
    "        \n",
    "        print (\"\\n{}\".format(nombre))\n",
    "        print (\"{} correctos de {} ==> {:.4}% correcto\".format(cuenta, etiq, cuenta/etiq*100))"
   ]
  },
  {
   "cell_type": "code",
   "execution_count": 98,
   "metadata": {},
   "outputs": [
    {
     "name": "stdout",
     "output_type": "stream",
     "text": [
      "\n",
      "Entranamiento  :\n",
      "28108 correctos de 30000 ==> 93.69% correcto\n",
      "\n",
      "Test  :\n",
      "11014 correctos de 12000 ==> 91.78% correcto\n"
     ]
    }
   ],
   "source": [
    "resumen_sk([('Entranamiento  :', etiquetas_train, X_train_sk)])\n",
    "resumen_sk([('Test  :', etiquetas_test, X_test_sk)])"
   ]
  },
  {
   "cell_type": "code",
   "execution_count": 99,
   "metadata": {},
   "outputs": [
    {
     "name": "stdout",
     "output_type": "stream",
     "text": [
      "SkLearn es 5.42 veces más rapido.\n"
     ]
    }
   ],
   "source": [
    "print ('SkLearn es {:.2f} veces más rapido.'.format(t_custom/t_sklearn))"
   ]
  },
  {
   "cell_type": "markdown",
   "metadata": {},
   "source": [
    "## Arboles "
   ]
  },
  {
   "cell_type": "code",
   "execution_count": 108,
   "metadata": {},
   "outputs": [
    {
     "data": {
      "text/plain": [
       "DecisionTreeClassifier(class_weight=None, criterion='gini', max_depth=None,\n",
       "                       max_features=None, max_leaf_nodes=None,\n",
       "                       min_impurity_decrease=0.0, min_impurity_split=None,\n",
       "                       min_samples_leaf=1, min_samples_split=2,\n",
       "                       min_weight_fraction_leaf=0.0, presort=False,\n",
       "                       random_state=None, splitter='best')"
      ]
     },
     "execution_count": 108,
     "metadata": {},
     "output_type": "execute_result"
    }
   ],
   "source": [
    "from sklearn.datasets import load_iris\n",
    "from sklearn.tree import DecisionTreeClassifier as DTC\n",
    "\n",
    "\n",
    "\n",
    "dt=DTC()\n",
    "dt.fit(load_iris().data, load_iris().target)"
   ]
  },
  {
   "cell_type": "code",
   "execution_count": 110,
   "metadata": {},
   "outputs": [
    {
     "data": {
      "text/plain": [
       "'\\ntrain_score=dt.score(X_train, etiquetas_train)\\ntest_score=dt.score(X_test, etiquetas_test)\\nprint (train_score, test_score)\\n'"
      ]
     },
     "execution_count": 110,
     "metadata": {},
     "output_type": "execute_result"
    }
   ],
   "source": [
    "'''\n",
    "train_score=dt.score(X_train, etiquetas_train)\n",
    "test_score=dt.score(X_test, etiquetas_test)\n",
    "print (train_score, test_score)\n",
    "'''"
   ]
  },
  {
   "cell_type": "code",
   "execution_count": 113,
   "metadata": {},
   "outputs": [
    {
     "data": {
      "image/png": "[encoded data removed]",
      "text/plain": [
       "<Figure size 1080x1080 with 1 Axes>"
      ]
     },
     "metadata": {
      "needs_background": "light"
     },
     "output_type": "display_data"
    }
   ],
   "source": [
    "%matplotlib inline\n",
    "from sklearn.tree import plot_tree\n",
    "plt.figure(figsize=(15,15))\n",
    "plot_tree(dt, fontsize=15);"
   ]
  },
  {
   "cell_type": "code",
   "execution_count": 114,
   "metadata": {},
   "outputs": [
    {
     "data": {
      "text/plain": [
       "RandomForestClassifier(bootstrap=True, class_weight=None, criterion='gini',\n",
       "                       max_depth=None, max_features='auto', max_leaf_nodes=None,\n",
       "                       min_impurity_decrease=0.0, min_impurity_split=None,\n",
       "                       min_samples_leaf=1, min_samples_split=2,\n",
       "                       min_weight_fraction_leaf=0.0, n_estimators=10,\n",
       "                       n_jobs=None, oob_score=False, random_state=None,\n",
       "                       verbose=0, warm_start=False)"
      ]
     },
     "execution_count": 114,
     "metadata": {},
     "output_type": "execute_result"
    }
   ],
   "source": [
    "# forest\n",
    "\n",
    "from sklearn.ensemble import RandomForestClassifier as RFC\n",
    "\n",
    "rf=RFC()\n",
    "rf.fit(X_train, etiquetas_train)"
   ]
  },
  {
   "cell_type": "code",
   "execution_count": 115,
   "metadata": {},
   "outputs": [
    {
     "name": "stdout",
     "output_type": "stream",
     "text": [
      "0.9991333333333333 0.9271666666666667\n"
     ]
    }
   ],
   "source": [
    "train_score=rf.score(X_train, etiquetas_train)\n",
    "test_score=rf.score(X_test, etiquetas_test)\n",
    "print (train_score, test_score)"
   ]
  },
  {
   "cell_type": "code",
   "execution_count": 116,
   "metadata": {},
   "outputs": [
    {
     "name": "stdout",
     "output_type": "stream",
     "text": [
      "0.9848333333333333 0.9588333333333333\n"
     ]
    }
   ],
   "source": [
    "# SVC\n",
    "\n",
    "from sklearn.svm import SVC\n",
    "\n",
    "svc=SVC()\n",
    "svc.fit(X_train, etiquetas_train)\n",
    "\n",
    "train_score=svc.score(X_train, etiquetas_train)\n",
    "test_score=svc.score(X_test, etiquetas_test)\n",
    "print (train_score, test_score)"
   ]
  },
  {
   "cell_type": "code",
   "execution_count": 120,
   "metadata": {},
   "outputs": [
    {
     "name": "stdout",
     "output_type": "stream",
     "text": [
      "Fitting 3 folds for each of 100 candidates, totalling 300 fits\n"
     ]
    },
    {
     "name": "stderr",
     "output_type": "stream",
     "text": [
      "[Parallel(n_jobs=-1)]: Using backend LokyBackend with 12 concurrent workers.\n",
      "[Parallel(n_jobs=-1)]: Done   1 tasks      | elapsed:    1.7s\n",
      "[Parallel(n_jobs=-1)]: Done   8 tasks      | elapsed:    3.1s\n",
      "[Parallel(n_jobs=-1)]: Done  17 tasks      | elapsed:    4.5s\n",
      "[Parallel(n_jobs=-1)]: Done  26 tasks      | elapsed:    5.1s\n",
      "[Parallel(n_jobs=-1)]: Done  37 tasks      | elapsed:    7.8s\n",
      "[Parallel(n_jobs=-1)]: Done  48 tasks      | elapsed:    8.7s\n",
      "[Parallel(n_jobs=-1)]: Done  61 tasks      | elapsed:   13.4s\n",
      "[Parallel(n_jobs=-1)]: Done  74 tasks      | elapsed:   16.5s\n",
      "[Parallel(n_jobs=-1)]: Done  89 tasks      | elapsed:   20.3s\n",
      "[Parallel(n_jobs=-1)]: Done 104 tasks      | elapsed:   24.8s\n",
      "[Parallel(n_jobs=-1)]: Done 121 tasks      | elapsed:   28.8s\n",
      "[Parallel(n_jobs=-1)]: Done 138 tasks      | elapsed:   33.2s\n",
      "[Parallel(n_jobs=-1)]: Done 157 tasks      | elapsed:   36.7s\n",
      "[Parallel(n_jobs=-1)]: Done 176 tasks      | elapsed:   40.4s\n",
      "[Parallel(n_jobs=-1)]: Done 197 tasks      | elapsed:   45.9s\n",
      "[Parallel(n_jobs=-1)]: Done 218 tasks      | elapsed:   53.4s\n",
      "[Parallel(n_jobs=-1)]: Done 241 tasks      | elapsed:  1.2min\n",
      "[Parallel(n_jobs=-1)]: Done 264 tasks      | elapsed:  1.7min\n",
      "[Parallel(n_jobs=-1)]: Done 300 out of 300 | elapsed:  2.0min finished\n"
     ]
    },
    {
     "data": {
      "text/plain": [
       "RandomizedSearchCV(cv=3, error_score='raise-deprecating',\n",
       "                   estimator=RandomForestClassifier(bootstrap=True,\n",
       "                                                    class_weight=None,\n",
       "                                                    criterion='gini',\n",
       "                                                    max_depth=None,\n",
       "                                                    max_features='auto',\n",
       "                                                    max_leaf_nodes=None,\n",
       "                                                    min_impurity_decrease=0.0,\n",
       "                                                    min_impurity_split=None,\n",
       "                                                    min_samples_leaf=1,\n",
       "                                                    min_samples_split=2,\n",
       "                                                    min_weight_fraction_leaf=0.0,\n",
       "                                                    n_estimators='warn',\n",
       "                                                    n_jobs=None,\n",
       "                                                    oob_sc...\n",
       "                   param_distributions={'bootstrap': [True, False],\n",
       "                                        'max_depth': [10, 20, 30, 40, 50, 60,\n",
       "                                                      70, 80, 90, 100, 110,\n",
       "                                                      None],\n",
       "                                        'max_features': ['auto', 'sqrt'],\n",
       "                                        'min_samples_leaf': [1, 2, 4],\n",
       "                                        'min_samples_split': [2, 5, 10],\n",
       "                                        'n_estimators': [200, 400, 600, 800,\n",
       "                                                         1000, 1200, 1400, 1600,\n",
       "                                                         1800, 2000]},\n",
       "                   pre_dispatch='2*n_jobs', random_state=None, refit=True,\n",
       "                   return_train_score=False, scoring='roc_auc', verbose=10)"
      ]
     },
     "execution_count": 120,
     "metadata": {},
     "output_type": "execute_result"
    }
   ],
   "source": [
    "from sklearn.datasets import make_circles\n",
    "from sklearn.model_selection import RandomizedSearchCV\n",
    "from sklearn.ensemble import RandomForestClassifier\n",
    "\n",
    "\n",
    "X, y = make_circles(noise=0.2, \n",
    "                    factor=0.5, \n",
    "                    random_state=1)\n",
    "\n",
    "\n",
    "\n",
    "\n",
    "n_estimators = [int(x) for x in np.linspace(start = 200, stop = 2000, num = 10)]\n",
    "max_features = ['auto', 'sqrt']\n",
    "max_depth = [int(x) for x in np.linspace(10, 110, num = 11)]\n",
    "max_depth.append(None)\n",
    "min_samples_split = [2, 5, 10]\n",
    "min_samples_leaf = [1, 2, 4]\n",
    "bootstrap = [True, False]\n",
    "\n",
    "random_grid = {'n_estimators': n_estimators,\n",
    "               'max_features': max_features,\n",
    "               'max_depth': max_depth,\n",
    "               'min_samples_split': min_samples_split,\n",
    "               'min_samples_leaf': min_samples_leaf,\n",
    "               'bootstrap': bootstrap}\n",
    "\n",
    "rf = RandomForestClassifier()\n",
    "rf_random = RandomizedSearchCV(estimator = rf, \n",
    "                               param_distributions = random_grid, \n",
    "                               n_iter = 100, \n",
    "                               cv = 3, \n",
    "                               verbose=10, \n",
    "                               n_jobs = -1, \n",
    "                               scoring='roc_auc')\n",
    "\n",
    "rf_random.fit(X, y)"
   ]
  },
  {
   "cell_type": "code",
   "execution_count": 122,
   "metadata": {},
   "outputs": [
    {
     "data": {
      "text/plain": [
       "RandomForestClassifier(bootstrap=True, class_weight=None, criterion='gini',\n",
       "                       max_depth=100, max_features='auto', max_leaf_nodes=None,\n",
       "                       min_impurity_decrease=0.0, min_impurity_split=None,\n",
       "                       min_samples_leaf=1, min_samples_split=2,\n",
       "                       min_weight_fraction_leaf=0.0, n_estimators=1800,\n",
       "                       n_jobs=None, oob_score=False, random_state=None,\n",
       "                       verbose=0, warm_start=False)"
      ]
     },
     "execution_count": 122,
     "metadata": {},
     "output_type": "execute_result"
    }
   ],
   "source": [
    "rf_random.best_estimator_"
   ]
  },
  {
   "cell_type": "code",
   "execution_count": 123,
   "metadata": {},
   "outputs": [
    {
     "data": {
      "text/plain": [
       "0.8848529411764706"
      ]
     },
     "execution_count": 123,
     "metadata": {},
     "output_type": "execute_result"
    }
   ],
   "source": [
    "rf_random.best_score_"
   ]
  },
  {
   "cell_type": "code",
   "execution_count": 124,
   "metadata": {},
   "outputs": [
    {
     "data": {
      "text/plain": [
       "{'n_estimators': 1800,\n",
       " 'min_samples_split': 2,\n",
       " 'min_samples_leaf': 1,\n",
       " 'max_features': 'auto',\n",
       " 'max_depth': 100,\n",
       " 'bootstrap': True}"
      ]
     },
     "execution_count": 124,
     "metadata": {},
     "output_type": "execute_result"
    }
   ],
   "source": [
    "rf_random.best_params_"
   ]
  },
  {
   "cell_type": "code",
   "execution_count": 125,
   "metadata": {},
   "outputs": [
    {
     "data": {
      "text/plain": [
       "{'mean_fit_time': array([ 1.71473098,  0.44344624,  3.11133361,  0.44114463,  2.40443301,\n",
       "         3.11821   ,  0.67727137,  0.6800859 ,  2.8265961 ,  2.30781468,\n",
       "         0.35283764,  3.59448361,  1.74251318,  1.4877797 ,  1.09470868,\n",
       "         0.47083815,  2.40910657,  0.48657433,  2.95731306,  4.47746428,\n",
       "         3.35671433,  3.62420464,  2.13955164,  3.71407127,  2.66029342,\n",
       "         2.7407589 ,  2.93499708,  3.3423876 ,  5.00477266,  3.25079576,\n",
       "         0.40654826,  5.57955154,  3.43911163,  0.54792245,  3.66626565,\n",
       "         4.64754128,  1.38290739,  3.44273806,  2.81830176,  4.57096807,\n",
       "         0.90118233,  1.75817696,  1.18569779,  1.17049869,  1.78092869,\n",
       "         4.19298037,  3.65895446,  4.76511558,  2.27942737,  1.85977411,\n",
       "         4.29758406,  0.89373859,  3.04779037,  0.51121799,  2.4193244 ,\n",
       "         1.32492399,  1.33720469,  1.34426435,  4.10090367,  2.43347764,\n",
       "         4.34521898,  1.85394708,  3.92516176,  5.57634314,  2.05806557,\n",
       "         2.85612885,  1.46581395,  8.22851626,  3.34742061,  4.16157087,\n",
       "         1.69226909,  2.20004972, 13.59740043,  2.47270099,  3.29611953,\n",
       "         3.91689428,  5.15691042, 14.08517957,  2.40402484,  2.6525085 ,\n",
       "         9.21876939, 10.35936093,  6.73412593, 11.63699102, 27.61568968,\n",
       "         4.40569274, 14.08207003, 26.02112103, 14.84161448, 15.09912237,\n",
       "         4.90655828,  4.25368063, 10.61990849,  8.00773398,  1.75176271,\n",
       "         7.1112144 , 12.53651381,  4.94097805,  2.90582601,  4.98108268]),\n",
       " 'std_fit_time': array([0.00460404, 0.00596768, 0.02803073, 0.00057771, 0.00880951,\n",
       "        0.00404112, 0.00599814, 0.00264708, 0.01965674, 0.01687694,\n",
       "        0.00399856, 0.03980822, 0.0135017 , 0.01212916, 0.00659307,\n",
       "        0.00128786, 0.02105115, 0.00303312, 0.00990314, 0.02535696,\n",
       "        0.03915229, 0.00665333, 0.01371242, 0.04282991, 0.01687736,\n",
       "        0.01845004, 0.01714956, 0.00432901, 0.02574226, 0.01002109,\n",
       "        0.00341062, 0.03838886, 0.00883578, 0.00582669, 0.04139344,\n",
       "        0.04605388, 0.01266743, 0.06035709, 0.07446078, 0.02789454,\n",
       "        0.03392685, 0.01584162, 0.00995969, 0.01361169, 0.00946904,\n",
       "        0.01352889, 0.02594039, 0.03366645, 0.03826889, 0.02194825,\n",
       "        0.0659201 , 0.0107213 , 0.0072934 , 0.02435641, 0.00190844,\n",
       "        0.02167029, 0.00425483, 0.0160477 , 0.02006116, 0.02745847,\n",
       "        0.11345273, 0.01655102, 0.00963796, 0.00659341, 0.00531434,\n",
       "        0.02221664, 0.01015307, 0.11116744, 0.02721135, 0.07501342,\n",
       "        0.00631363, 0.00992098, 0.15883282, 0.01303588, 0.01725139,\n",
       "        0.05879551, 0.04651871, 0.07216889, 0.01162461, 0.01834149,\n",
       "        0.07385572, 0.0826226 , 0.17988276, 0.06520825, 0.07283295,\n",
       "        0.01053302, 0.06094555, 0.1135385 , 0.03149477, 0.12175569,\n",
       "        0.00203213, 0.0074457 , 0.0286712 , 0.04243692, 0.02804453,\n",
       "        0.05434891, 0.0411339 , 0.02307488, 0.02460547, 0.07398233]),\n",
       " 'mean_score_time': array([0.11805296, 0.02445769, 0.22128526, 0.02524805, 0.1659557 ,\n",
       "        0.22195435, 0.0489947 , 0.05013442, 0.21055865, 0.12600406,\n",
       "        0.026407  , 0.26162362, 0.12344535, 0.10324367, 0.07703273,\n",
       "        0.026606  , 0.12757897, 0.02841934, 0.20421155, 0.28314098,\n",
       "        0.24439732, 0.19819442, 0.11965799, 0.32736937, 0.16570393,\n",
       "        0.16057698, 0.21202064, 0.22951237, 0.31271871, 0.17463398,\n",
       "        0.03169139, 0.31598989, 0.2487363 , 0.02908897, 0.22580878,\n",
       "        0.23306521, 0.09054764, 0.1964945 , 0.16792289, 0.25855954,\n",
       "        0.07491787, 0.10351396, 0.05966926, 0.09224868, 0.09066335,\n",
       "        0.24290792, 0.25420594, 0.28022552, 0.15300465, 0.15000216,\n",
       "        0.21976463, 0.06549001, 0.15917595, 0.03965243, 0.1252199 ,\n",
       "        0.09390497, 0.09427118, 0.1049366 , 0.29490248, 0.12465803,\n",
       "        0.25249012, 0.13251956, 0.22078323, 0.36705867, 0.11838897,\n",
       "        0.15980403, 0.08221467, 0.57473954, 0.2073245 , 0.3948977 ,\n",
       "        0.10137661, 0.11166016, 1.11152172, 0.18273807, 0.21150176,\n",
       "        0.32563885, 0.42528359, 1.01194676, 0.18547336, 0.20647303,\n",
       "        0.78795441, 1.02056742, 0.70203805, 0.68797541, 1.11990396,\n",
       "        0.32725008, 1.56466484, 0.94640096, 0.82809758, 0.6108803 ,\n",
       "        0.32032601, 0.22269106, 0.63015548, 0.40575329, 0.1012098 ,\n",
       "        0.51098204, 0.368198  , 0.24547124, 0.19969463, 0.19928137]),\n",
       " 'std_score_time': array([0.00205226, 0.00070923, 0.00224965, 0.00104887, 0.00154335,\n",
       "        0.00047926, 0.00038556, 0.00237486, 0.00387035, 0.00401768,\n",
       "        0.00010268, 0.00285588, 0.00158491, 0.00143212, 0.00107619,\n",
       "        0.0009124 , 0.00416705, 0.00162785, 0.00343331, 0.00387178,\n",
       "        0.00882678, 0.00098204, 0.00383135, 0.02971003, 0.00958799,\n",
       "        0.00718586, 0.00588742, 0.00280547, 0.00996209, 0.00966153,\n",
       "        0.00178869, 0.01476836, 0.0044107 , 0.00029673, 0.00163887,\n",
       "        0.00845629, 0.00616533, 0.00413462, 0.00279634, 0.00207964,\n",
       "        0.01274901, 0.00224587, 0.00114916, 0.04287005, 0.0017672 ,\n",
       "        0.01897026, 0.0130032 , 0.0125435 , 0.0040076 , 0.00584023,\n",
       "        0.00596206, 0.0024022 , 0.00163563, 0.00487917, 0.00374457,\n",
       "        0.00173961, 0.00741122, 0.00180819, 0.00515198, 0.00115815,\n",
       "        0.01179867, 0.00342681, 0.01076254, 0.00269748, 0.00262728,\n",
       "        0.00433327, 0.00170512, 0.01906066, 0.01629406, 0.00231753,\n",
       "        0.00353247, 0.00205431, 0.01387811, 0.00364681, 0.0080601 ,\n",
       "        0.0113612 , 0.01160229, 0.00937671, 0.00413799, 0.00417463,\n",
       "        0.01560333, 0.044701  , 0.00795408, 0.01787023, 0.0117979 ,\n",
       "        0.0076482 , 0.03610526, 0.01549557, 0.0166415 , 0.01842614,\n",
       "        0.00480916, 0.00784926, 0.02660951, 0.01210794, 0.00266332,\n",
       "        0.01980649, 0.00544375, 0.00363931, 0.00499239, 0.00876343]),\n",
       " 'param_n_estimators': masked_array(data=[1000, 200, 1800, 200, 1400, 1800, 400, 400, 1600, 1000,\n",
       "                    200, 2000, 1000, 800, 600, 200, 1000, 200, 1600, 1800,\n",
       "                    1800, 1400, 800, 1800, 1000, 1000, 1400, 1600, 1800,\n",
       "                    1200, 200, 2000, 1600, 200, 1600, 1600, 600, 1200,\n",
       "                    1000, 1600, 400, 600, 400, 400, 600, 1400, 1600, 1600,\n",
       "                    1000, 800, 1400, 400, 1000, 200, 800, 600, 600, 600,\n",
       "                    1800, 800, 1400, 800, 1200, 1600, 600, 800, 400, 1800,\n",
       "                    800, 1200, 400, 400, 2000, 600, 600, 800, 1000, 1600,\n",
       "                    400, 400, 1200, 1200, 800, 800, 1800, 400, 1200, 1800,\n",
       "                    1200, 1200, 600, 400, 1800, 1000, 200, 1200, 2000, 800,\n",
       "                    600, 1200],\n",
       "              mask=[False, False, False, False, False, False, False, False,\n",
       "                    False, False, False, False, False, False, False, False,\n",
       "                    False, False, False, False, False, False, False, False,\n",
       "                    False, False, False, False, False, False, False, False,\n",
       "                    False, False, False, False, False, False, False, False,\n",
       "                    False, False, False, False, False, False, False, False,\n",
       "                    False, False, False, False, False, False, False, False,\n",
       "                    False, False, False, False, False, False, False, False,\n",
       "                    False, False, False, False, False, False, False, False,\n",
       "                    False, False, False, False, False, False, False, False,\n",
       "                    False, False, False, False, False, False, False, False,\n",
       "                    False, False, False, False, False, False, False, False,\n",
       "                    False, False, False, False],\n",
       "        fill_value='?',\n",
       "             dtype=object),\n",
       " 'param_min_samples_split': masked_array(data=[2, 5, 5, 10, 10, 2, 10, 2, 2, 5, 5, 10, 2, 5, 10, 2,\n",
       "                    10, 2, 2, 2, 5, 10, 5, 5, 5, 5, 5, 2, 2, 10, 10, 10, 5,\n",
       "                    5, 5, 5, 5, 10, 5, 5, 10, 5, 10, 10, 10, 2, 10, 10, 10,\n",
       "                    5, 10, 5, 2, 2, 2, 2, 10, 10, 5, 5, 5, 10, 5, 2, 10, 2,\n",
       "                    2, 5, 5, 2, 10, 5, 5, 2, 5, 2, 10, 5, 5, 5, 10, 5, 10,\n",
       "                    5, 2, 10, 5, 10, 5, 5, 2, 5, 10, 10, 5, 2, 2, 10, 10,\n",
       "                    2],\n",
       "              mask=[False, False, False, False, False, False, False, False,\n",
       "                    False, False, False, False, False, False, False, False,\n",
       "                    False, False, False, False, False, False, False, False,\n",
       "                    False, False, False, False, False, False, False, False,\n",
       "                    False, False, False, False, False, False, False, False,\n",
       "                    False, False, False, False, False, False, False, False,\n",
       "                    False, False, False, False, False, False, False, False,\n",
       "                    False, False, False, False, False, False, False, False,\n",
       "                    False, False, False, False, False, False, False, False,\n",
       "                    False, False, False, False, False, False, False, False,\n",
       "                    False, False, False, False, False, False, False, False,\n",
       "                    False, False, False, False, False, False, False, False,\n",
       "                    False, False, False, False],\n",
       "        fill_value='?',\n",
       "             dtype=object),\n",
       " 'param_min_samples_leaf': masked_array(data=[4, 1, 1, 1, 1, 1, 1, 2, 2, 2, 4, 4, 2, 4, 1, 4, 4, 4,\n",
       "                    1, 2, 1, 1, 2, 4, 4, 1, 4, 2, 1, 4, 2, 1, 2, 1, 2, 2,\n",
       "                    4, 1, 1, 2, 1, 4, 1, 1, 2, 2, 1, 4, 1, 1, 2, 4, 1, 1,\n",
       "                    1, 2, 4, 1, 4, 4, 4, 4, 2, 1, 2, 4, 2, 4, 4, 4, 4, 1,\n",
       "                    1, 1, 2, 1, 2, 1, 4, 1, 1, 2, 1, 1, 4, 2, 1, 1, 4, 1,\n",
       "                    4, 1, 2, 2, 1, 4, 2, 4, 1, 2],\n",
       "              mask=[False, False, False, False, False, False, False, False,\n",
       "                    False, False, False, False, False, False, False, False,\n",
       "                    False, False, False, False, False, False, False, False,\n",
       "                    False, False, False, False, False, False, False, False,\n",
       "                    False, False, False, False, False, False, False, False,\n",
       "                    False, False, False, False, False, False, False, False,\n",
       "                    False, False, False, False, False, False, False, False,\n",
       "                    False, False, False, False, False, False, False, False,\n",
       "                    False, False, False, False, False, False, False, False,\n",
       "                    False, False, False, False, False, False, False, False,\n",
       "                    False, False, False, False, False, False, False, False,\n",
       "                    False, False, False, False, False, False, False, False,\n",
       "                    False, False, False, False],\n",
       "        fill_value='?',\n",
       "             dtype=object),\n",
       " 'param_max_features': masked_array(data=['auto', 'sqrt', 'auto', 'sqrt', 'sqrt', 'sqrt', 'auto',\n",
       "                    'sqrt', 'sqrt', 'sqrt', 'auto', 'sqrt', 'auto', 'auto',\n",
       "                    'sqrt', 'auto', 'auto', 'sqrt', 'sqrt', 'auto', 'auto',\n",
       "                    'auto', 'sqrt', 'auto', 'auto', 'auto', 'sqrt', 'sqrt',\n",
       "                    'auto', 'auto', 'sqrt', 'auto', 'auto', 'auto', 'sqrt',\n",
       "                    'sqrt', 'auto', 'auto', 'auto', 'sqrt', 'sqrt', 'auto',\n",
       "                    'auto', 'sqrt', 'sqrt', 'auto', 'auto', 'sqrt', 'auto',\n",
       "                    'auto', 'auto', 'sqrt', 'sqrt', 'auto', 'sqrt', 'sqrt',\n",
       "                    'auto', 'sqrt', 'auto', 'sqrt', 'sqrt', 'sqrt', 'auto',\n",
       "                    'sqrt', 'auto', 'sqrt', 'sqrt', 'sqrt', 'auto', 'sqrt',\n",
       "                    'sqrt', 'auto', 'auto', 'sqrt', 'auto', 'sqrt', 'auto',\n",
       "                    'sqrt', 'auto', 'auto', 'auto', 'sqrt', 'auto', 'sqrt',\n",
       "                    'auto', 'sqrt', 'sqrt', 'sqrt', 'sqrt', 'auto', 'sqrt',\n",
       "                    'auto', 'auto', 'auto', 'auto', 'auto', 'auto', 'sqrt',\n",
       "                    'auto', 'sqrt'],\n",
       "              mask=[False, False, False, False, False, False, False, False,\n",
       "                    False, False, False, False, False, False, False, False,\n",
       "                    False, False, False, False, False, False, False, False,\n",
       "                    False, False, False, False, False, False, False, False,\n",
       "                    False, False, False, False, False, False, False, False,\n",
       "                    False, False, False, False, False, False, False, False,\n",
       "                    False, False, False, False, False, False, False, False,\n",
       "                    False, False, False, False, False, False, False, False,\n",
       "                    False, False, False, False, False, False, False, False,\n",
       "                    False, False, False, False, False, False, False, False,\n",
       "                    False, False, False, False, False, False, False, False,\n",
       "                    False, False, False, False, False, False, False, False,\n",
       "                    False, False, False, False],\n",
       "        fill_value='?',\n",
       "             dtype=object),\n",
       " 'param_max_depth': masked_array(data=[80, 110, 30, 40, 50, 20, 40, 50, 100, None, 110, 40,\n",
       "                    100, 10, 110, None, 30, 60, 10, 30, 110, 30, 80, 90,\n",
       "                    10, 50, 50, 90, 100, 110, 70, 10, 110, 90, 100, 100,\n",
       "                    10, 30, 20, 20, 20, 40, 40, 110, 80, 80, 90, 40, 90,\n",
       "                    110, None, 20, 110, 110, 70, 20, None, 70, 110, 110,\n",
       "                    110, 90, 30, 40, 90, 10, 50, 40, 110, 70, 70, 60, 70,\n",
       "                    110, 110, 90, 50, None, 90, 110, 60, 90, 110, 10, 10,\n",
       "                    70, 110, 10, 110, 50, None, 50, 60, 110, None, 100, 20,\n",
       "                    10, 110, 110],\n",
       "              mask=[False, False, False, False, False, False, False, False,\n",
       "                    False, False, False, False, False, False, False, False,\n",
       "                    False, False, False, False, False, False, False, False,\n",
       "                    False, False, False, False, False, False, False, False,\n",
       "                    False, False, False, False, False, False, False, False,\n",
       "                    False, False, False, False, False, False, False, False,\n",
       "                    False, False, False, False, False, False, False, False,\n",
       "                    False, False, False, False, False, False, False, False,\n",
       "                    False, False, False, False, False, False, False, False,\n",
       "                    False, False, False, False, False, False, False, False,\n",
       "                    False, False, False, False, False, False, False, False,\n",
       "                    False, False, False, False, False, False, False, False,\n",
       "                    False, False, False, False],\n",
       "        fill_value='?',\n",
       "             dtype=object),\n",
       " 'param_bootstrap': masked_array(data=[False, True, False, True, False, False, False, False,\n",
       "                    False, True, False, False, False, False, False, True,\n",
       "                    True, True, False, True, False, True, True, False,\n",
       "                    True, True, False, False, True, True, False, True,\n",
       "                    False, True, False, True, False, True, True, True,\n",
       "                    False, True, True, True, True, True, False, True,\n",
       "                    False, False, True, False, True, False, True, False,\n",
       "                    False, False, False, True, True, False, True, True,\n",
       "                    True, True, True, True, True, False, True, True, True,\n",
       "                    False, True, False, False, True, False, False, False,\n",
       "                    False, False, True, True, False, False, True, False,\n",
       "                    True, False, True, False, True, True, False, True,\n",
       "                    True, False, True],\n",
       "              mask=[False, False, False, False, False, False, False, False,\n",
       "                    False, False, False, False, False, False, False, False,\n",
       "                    False, False, False, False, False, False, False, False,\n",
       "                    False, False, False, False, False, False, False, False,\n",
       "                    False, False, False, False, False, False, False, False,\n",
       "                    False, False, False, False, False, False, False, False,\n",
       "                    False, False, False, False, False, False, False, False,\n",
       "                    False, False, False, False, False, False, False, False,\n",
       "                    False, False, False, False, False, False, False, False,\n",
       "                    False, False, False, False, False, False, False, False,\n",
       "                    False, False, False, False, False, False, False, False,\n",
       "                    False, False, False, False, False, False, False, False,\n",
       "                    False, False, False, False],\n",
       "        fill_value='?',\n",
       "             dtype=object),\n",
       " 'params': [{'n_estimators': 1000,\n",
       "   'min_samples_split': 2,\n",
       "   'min_samples_leaf': 4,\n",
       "   'max_features': 'auto',\n",
       "   'max_depth': 80,\n",
       "   'bootstrap': False},\n",
       "  {'n_estimators': 200,\n",
       "   'min_samples_split': 5,\n",
       "   'min_samples_leaf': 1,\n",
       "   'max_features': 'sqrt',\n",
       "   'max_depth': 110,\n",
       "   'bootstrap': True},\n",
       "  {'n_estimators': 1800,\n",
       "   'min_samples_split': 5,\n",
       "   'min_samples_leaf': 1,\n",
       "   'max_features': 'auto',\n",
       "   'max_depth': 30,\n",
       "   'bootstrap': False},\n",
       "  {'n_estimators': 200,\n",
       "   'min_samples_split': 10,\n",
       "   'min_samples_leaf': 1,\n",
       "   'max_features': 'sqrt',\n",
       "   'max_depth': 40,\n",
       "   'bootstrap': True},\n",
       "  {'n_estimators': 1400,\n",
       "   'min_samples_split': 10,\n",
       "   'min_samples_leaf': 1,\n",
       "   'max_features': 'sqrt',\n",
       "   'max_depth': 50,\n",
       "   'bootstrap': False},\n",
       "  {'n_estimators': 1800,\n",
       "   'min_samples_split': 2,\n",
       "   'min_samples_leaf': 1,\n",
       "   'max_features': 'sqrt',\n",
       "   'max_depth': 20,\n",
       "   'bootstrap': False},\n",
       "  {'n_estimators': 400,\n",
       "   'min_samples_split': 10,\n",
       "   'min_samples_leaf': 1,\n",
       "   'max_features': 'auto',\n",
       "   'max_depth': 40,\n",
       "   'bootstrap': False},\n",
       "  {'n_estimators': 400,\n",
       "   'min_samples_split': 2,\n",
       "   'min_samples_leaf': 2,\n",
       "   'max_features': 'sqrt',\n",
       "   'max_depth': 50,\n",
       "   'bootstrap': False},\n",
       "  {'n_estimators': 1600,\n",
       "   'min_samples_split': 2,\n",
       "   'min_samples_leaf': 2,\n",
       "   'max_features': 'sqrt',\n",
       "   'max_depth': 100,\n",
       "   'bootstrap': False},\n",
       "  {'n_estimators': 1000,\n",
       "   'min_samples_split': 5,\n",
       "   'min_samples_leaf': 2,\n",
       "   'max_features': 'sqrt',\n",
       "   'max_depth': None,\n",
       "   'bootstrap': True},\n",
       "  {'n_estimators': 200,\n",
       "   'min_samples_split': 5,\n",
       "   'min_samples_leaf': 4,\n",
       "   'max_features': 'auto',\n",
       "   'max_depth': 110,\n",
       "   'bootstrap': False},\n",
       "  {'n_estimators': 2000,\n",
       "   'min_samples_split': 10,\n",
       "   'min_samples_leaf': 4,\n",
       "   'max_features': 'sqrt',\n",
       "   'max_depth': 40,\n",
       "   'bootstrap': False},\n",
       "  {'n_estimators': 1000,\n",
       "   'min_samples_split': 2,\n",
       "   'min_samples_leaf': 2,\n",
       "   'max_features': 'auto',\n",
       "   'max_depth': 100,\n",
       "   'bootstrap': False},\n",
       "  {'n_estimators': 800,\n",
       "   'min_samples_split': 5,\n",
       "   'min_samples_leaf': 4,\n",
       "   'max_features': 'auto',\n",
       "   'max_depth': 10,\n",
       "   'bootstrap': False},\n",
       "  {'n_estimators': 600,\n",
       "   'min_samples_split': 10,\n",
       "   'min_samples_leaf': 1,\n",
       "   'max_features': 'sqrt',\n",
       "   'max_depth': 110,\n",
       "   'bootstrap': False},\n",
       "  {'n_estimators': 200,\n",
       "   'min_samples_split': 2,\n",
       "   'min_samples_leaf': 4,\n",
       "   'max_features': 'auto',\n",
       "   'max_depth': None,\n",
       "   'bootstrap': True},\n",
       "  {'n_estimators': 1000,\n",
       "   'min_samples_split': 10,\n",
       "   'min_samples_leaf': 4,\n",
       "   'max_features': 'auto',\n",
       "   'max_depth': 30,\n",
       "   'bootstrap': True},\n",
       "  {'n_estimators': 200,\n",
       "   'min_samples_split': 2,\n",
       "   'min_samples_leaf': 4,\n",
       "   'max_features': 'sqrt',\n",
       "   'max_depth': 60,\n",
       "   'bootstrap': True},\n",
       "  {'n_estimators': 1600,\n",
       "   'min_samples_split': 2,\n",
       "   'min_samples_leaf': 1,\n",
       "   'max_features': 'sqrt',\n",
       "   'max_depth': 10,\n",
       "   'bootstrap': False},\n",
       "  {'n_estimators': 1800,\n",
       "   'min_samples_split': 2,\n",
       "   'min_samples_leaf': 2,\n",
       "   'max_features': 'auto',\n",
       "   'max_depth': 30,\n",
       "   'bootstrap': True},\n",
       "  {'n_estimators': 1800,\n",
       "   'min_samples_split': 5,\n",
       "   'min_samples_leaf': 1,\n",
       "   'max_features': 'auto',\n",
       "   'max_depth': 110,\n",
       "   'bootstrap': False},\n",
       "  {'n_estimators': 1400,\n",
       "   'min_samples_split': 10,\n",
       "   'min_samples_leaf': 1,\n",
       "   'max_features': 'auto',\n",
       "   'max_depth': 30,\n",
       "   'bootstrap': True},\n",
       "  {'n_estimators': 800,\n",
       "   'min_samples_split': 5,\n",
       "   'min_samples_leaf': 2,\n",
       "   'max_features': 'sqrt',\n",
       "   'max_depth': 80,\n",
       "   'bootstrap': True},\n",
       "  {'n_estimators': 1800,\n",
       "   'min_samples_split': 5,\n",
       "   'min_samples_leaf': 4,\n",
       "   'max_features': 'auto',\n",
       "   'max_depth': 90,\n",
       "   'bootstrap': False},\n",
       "  {'n_estimators': 1000,\n",
       "   'min_samples_split': 5,\n",
       "   'min_samples_leaf': 4,\n",
       "   'max_features': 'auto',\n",
       "   'max_depth': 10,\n",
       "   'bootstrap': True},\n",
       "  {'n_estimators': 1000,\n",
       "   'min_samples_split': 5,\n",
       "   'min_samples_leaf': 1,\n",
       "   'max_features': 'auto',\n",
       "   'max_depth': 50,\n",
       "   'bootstrap': True},\n",
       "  {'n_estimators': 1400,\n",
       "   'min_samples_split': 5,\n",
       "   'min_samples_leaf': 4,\n",
       "   'max_features': 'sqrt',\n",
       "   'max_depth': 50,\n",
       "   'bootstrap': False},\n",
       "  {'n_estimators': 1600,\n",
       "   'min_samples_split': 2,\n",
       "   'min_samples_leaf': 2,\n",
       "   'max_features': 'sqrt',\n",
       "   'max_depth': 90,\n",
       "   'bootstrap': False},\n",
       "  {'n_estimators': 1800,\n",
       "   'min_samples_split': 2,\n",
       "   'min_samples_leaf': 1,\n",
       "   'max_features': 'auto',\n",
       "   'max_depth': 100,\n",
       "   'bootstrap': True},\n",
       "  {'n_estimators': 1200,\n",
       "   'min_samples_split': 10,\n",
       "   'min_samples_leaf': 4,\n",
       "   'max_features': 'auto',\n",
       "   'max_depth': 110,\n",
       "   'bootstrap': True},\n",
       "  {'n_estimators': 200,\n",
       "   'min_samples_split': 10,\n",
       "   'min_samples_leaf': 2,\n",
       "   'max_features': 'sqrt',\n",
       "   'max_depth': 70,\n",
       "   'bootstrap': False},\n",
       "  {'n_estimators': 2000,\n",
       "   'min_samples_split': 10,\n",
       "   'min_samples_leaf': 1,\n",
       "   'max_features': 'auto',\n",
       "   'max_depth': 10,\n",
       "   'bootstrap': True},\n",
       "  {'n_estimators': 1600,\n",
       "   'min_samples_split': 5,\n",
       "   'min_samples_leaf': 2,\n",
       "   'max_features': 'auto',\n",
       "   'max_depth': 110,\n",
       "   'bootstrap': False},\n",
       "  {'n_estimators': 200,\n",
       "   'min_samples_split': 5,\n",
       "   'min_samples_leaf': 1,\n",
       "   'max_features': 'auto',\n",
       "   'max_depth': 90,\n",
       "   'bootstrap': True},\n",
       "  {'n_estimators': 1600,\n",
       "   'min_samples_split': 5,\n",
       "   'min_samples_leaf': 2,\n",
       "   'max_features': 'sqrt',\n",
       "   'max_depth': 100,\n",
       "   'bootstrap': False},\n",
       "  {'n_estimators': 1600,\n",
       "   'min_samples_split': 5,\n",
       "   'min_samples_leaf': 2,\n",
       "   'max_features': 'sqrt',\n",
       "   'max_depth': 100,\n",
       "   'bootstrap': True},\n",
       "  {'n_estimators': 600,\n",
       "   'min_samples_split': 5,\n",
       "   'min_samples_leaf': 4,\n",
       "   'max_features': 'auto',\n",
       "   'max_depth': 10,\n",
       "   'bootstrap': False},\n",
       "  {'n_estimators': 1200,\n",
       "   'min_samples_split': 10,\n",
       "   'min_samples_leaf': 1,\n",
       "   'max_features': 'auto',\n",
       "   'max_depth': 30,\n",
       "   'bootstrap': True},\n",
       "  {'n_estimators': 1000,\n",
       "   'min_samples_split': 5,\n",
       "   'min_samples_leaf': 1,\n",
       "   'max_features': 'auto',\n",
       "   'max_depth': 20,\n",
       "   'bootstrap': True},\n",
       "  {'n_estimators': 1600,\n",
       "   'min_samples_split': 5,\n",
       "   'min_samples_leaf': 2,\n",
       "   'max_features': 'sqrt',\n",
       "   'max_depth': 20,\n",
       "   'bootstrap': True},\n",
       "  {'n_estimators': 400,\n",
       "   'min_samples_split': 10,\n",
       "   'min_samples_leaf': 1,\n",
       "   'max_features': 'sqrt',\n",
       "   'max_depth': 20,\n",
       "   'bootstrap': False},\n",
       "  {'n_estimators': 600,\n",
       "   'min_samples_split': 5,\n",
       "   'min_samples_leaf': 4,\n",
       "   'max_features': 'auto',\n",
       "   'max_depth': 40,\n",
       "   'bootstrap': True},\n",
       "  {'n_estimators': 400,\n",
       "   'min_samples_split': 10,\n",
       "   'min_samples_leaf': 1,\n",
       "   'max_features': 'auto',\n",
       "   'max_depth': 40,\n",
       "   'bootstrap': True},\n",
       "  {'n_estimators': 400,\n",
       "   'min_samples_split': 10,\n",
       "   'min_samples_leaf': 1,\n",
       "   'max_features': 'sqrt',\n",
       "   'max_depth': 110,\n",
       "   'bootstrap': True},\n",
       "  {'n_estimators': 600,\n",
       "   'min_samples_split': 10,\n",
       "   'min_samples_leaf': 2,\n",
       "   'max_features': 'sqrt',\n",
       "   'max_depth': 80,\n",
       "   'bootstrap': True},\n",
       "  {'n_estimators': 1400,\n",
       "   'min_samples_split': 2,\n",
       "   'min_samples_leaf': 2,\n",
       "   'max_features': 'auto',\n",
       "   'max_depth': 80,\n",
       "   'bootstrap': True},\n",
       "  {'n_estimators': 1600,\n",
       "   'min_samples_split': 10,\n",
       "   'min_samples_leaf': 1,\n",
       "   'max_features': 'auto',\n",
       "   'max_depth': 90,\n",
       "   'bootstrap': False},\n",
       "  {'n_estimators': 1600,\n",
       "   'min_samples_split': 10,\n",
       "   'min_samples_leaf': 4,\n",
       "   'max_features': 'sqrt',\n",
       "   'max_depth': 40,\n",
       "   'bootstrap': True},\n",
       "  {'n_estimators': 1000,\n",
       "   'min_samples_split': 10,\n",
       "   'min_samples_leaf': 1,\n",
       "   'max_features': 'auto',\n",
       "   'max_depth': 90,\n",
       "   'bootstrap': False},\n",
       "  {'n_estimators': 800,\n",
       "   'min_samples_split': 5,\n",
       "   'min_samples_leaf': 1,\n",
       "   'max_features': 'auto',\n",
       "   'max_depth': 110,\n",
       "   'bootstrap': False},\n",
       "  {'n_estimators': 1400,\n",
       "   'min_samples_split': 10,\n",
       "   'min_samples_leaf': 2,\n",
       "   'max_features': 'auto',\n",
       "   'max_depth': None,\n",
       "   'bootstrap': True},\n",
       "  {'n_estimators': 400,\n",
       "   'min_samples_split': 5,\n",
       "   'min_samples_leaf': 4,\n",
       "   'max_features': 'sqrt',\n",
       "   'max_depth': 20,\n",
       "   'bootstrap': False},\n",
       "  {'n_estimators': 1000,\n",
       "   'min_samples_split': 2,\n",
       "   'min_samples_leaf': 1,\n",
       "   'max_features': 'sqrt',\n",
       "   'max_depth': 110,\n",
       "   'bootstrap': True},\n",
       "  {'n_estimators': 200,\n",
       "   'min_samples_split': 2,\n",
       "   'min_samples_leaf': 1,\n",
       "   'max_features': 'auto',\n",
       "   'max_depth': 110,\n",
       "   'bootstrap': False},\n",
       "  {'n_estimators': 800,\n",
       "   'min_samples_split': 2,\n",
       "   'min_samples_leaf': 1,\n",
       "   'max_features': 'sqrt',\n",
       "   'max_depth': 70,\n",
       "   'bootstrap': True},\n",
       "  {'n_estimators': 600,\n",
       "   'min_samples_split': 2,\n",
       "   'min_samples_leaf': 2,\n",
       "   'max_features': 'sqrt',\n",
       "   'max_depth': 20,\n",
       "   'bootstrap': False},\n",
       "  {'n_estimators': 600,\n",
       "   'min_samples_split': 10,\n",
       "   'min_samples_leaf': 4,\n",
       "   'max_features': 'auto',\n",
       "   'max_depth': None,\n",
       "   'bootstrap': False},\n",
       "  {'n_estimators': 600,\n",
       "   'min_samples_split': 10,\n",
       "   'min_samples_leaf': 1,\n",
       "   'max_features': 'sqrt',\n",
       "   'max_depth': 70,\n",
       "   'bootstrap': False},\n",
       "  {'n_estimators': 1800,\n",
       "   'min_samples_split': 5,\n",
       "   'min_samples_leaf': 4,\n",
       "   'max_features': 'auto',\n",
       "   'max_depth': 110,\n",
       "   'bootstrap': False},\n",
       "  {'n_estimators': 800,\n",
       "   'min_samples_split': 5,\n",
       "   'min_samples_leaf': 4,\n",
       "   'max_features': 'sqrt',\n",
       "   'max_depth': 110,\n",
       "   'bootstrap': True},\n",
       "  {'n_estimators': 1400,\n",
       "   'min_samples_split': 5,\n",
       "   'min_samples_leaf': 4,\n",
       "   'max_features': 'sqrt',\n",
       "   'max_depth': 110,\n",
       "   'bootstrap': True},\n",
       "  {'n_estimators': 800,\n",
       "   'min_samples_split': 10,\n",
       "   'min_samples_leaf': 4,\n",
       "   'max_features': 'sqrt',\n",
       "   'max_depth': 90,\n",
       "   'bootstrap': False},\n",
       "  {'n_estimators': 1200,\n",
       "   'min_samples_split': 5,\n",
       "   'min_samples_leaf': 2,\n",
       "   'max_features': 'auto',\n",
       "   'max_depth': 30,\n",
       "   'bootstrap': True},\n",
       "  {'n_estimators': 1600,\n",
       "   'min_samples_split': 2,\n",
       "   'min_samples_leaf': 1,\n",
       "   'max_features': 'sqrt',\n",
       "   'max_depth': 40,\n",
       "   'bootstrap': True},\n",
       "  {'n_estimators': 600,\n",
       "   'min_samples_split': 10,\n",
       "   'min_samples_leaf': 2,\n",
       "   'max_features': 'auto',\n",
       "   'max_depth': 90,\n",
       "   'bootstrap': True},\n",
       "  {'n_estimators': 800,\n",
       "   'min_samples_split': 2,\n",
       "   'min_samples_leaf': 4,\n",
       "   'max_features': 'sqrt',\n",
       "   'max_depth': 10,\n",
       "   'bootstrap': True},\n",
       "  {'n_estimators': 400,\n",
       "   'min_samples_split': 2,\n",
       "   'min_samples_leaf': 2,\n",
       "   'max_features': 'sqrt',\n",
       "   'max_depth': 50,\n",
       "   'bootstrap': True},\n",
       "  {'n_estimators': 1800,\n",
       "   'min_samples_split': 5,\n",
       "   'min_samples_leaf': 4,\n",
       "   'max_features': 'sqrt',\n",
       "   'max_depth': 40,\n",
       "   'bootstrap': True},\n",
       "  {'n_estimators': 800,\n",
       "   'min_samples_split': 5,\n",
       "   'min_samples_leaf': 4,\n",
       "   'max_features': 'auto',\n",
       "   'max_depth': 110,\n",
       "   'bootstrap': True},\n",
       "  {'n_estimators': 1200,\n",
       "   'min_samples_split': 2,\n",
       "   'min_samples_leaf': 4,\n",
       "   'max_features': 'sqrt',\n",
       "   'max_depth': 70,\n",
       "   'bootstrap': False},\n",
       "  {'n_estimators': 400,\n",
       "   'min_samples_split': 10,\n",
       "   'min_samples_leaf': 4,\n",
       "   'max_features': 'sqrt',\n",
       "   'max_depth': 70,\n",
       "   'bootstrap': True},\n",
       "  {'n_estimators': 400,\n",
       "   'min_samples_split': 5,\n",
       "   'min_samples_leaf': 1,\n",
       "   'max_features': 'auto',\n",
       "   'max_depth': 60,\n",
       "   'bootstrap': True},\n",
       "  {'n_estimators': 2000,\n",
       "   'min_samples_split': 5,\n",
       "   'min_samples_leaf': 1,\n",
       "   'max_features': 'auto',\n",
       "   'max_depth': 70,\n",
       "   'bootstrap': True},\n",
       "  {'n_estimators': 600,\n",
       "   'min_samples_split': 2,\n",
       "   'min_samples_leaf': 1,\n",
       "   'max_features': 'sqrt',\n",
       "   'max_depth': 110,\n",
       "   'bootstrap': False},\n",
       "  {'n_estimators': 600,\n",
       "   'min_samples_split': 5,\n",
       "   'min_samples_leaf': 2,\n",
       "   'max_features': 'auto',\n",
       "   'max_depth': 110,\n",
       "   'bootstrap': True},\n",
       "  {'n_estimators': 800,\n",
       "   'min_samples_split': 2,\n",
       "   'min_samples_leaf': 1,\n",
       "   'max_features': 'sqrt',\n",
       "   'max_depth': 90,\n",
       "   'bootstrap': False},\n",
       "  {'n_estimators': 1000,\n",
       "   'min_samples_split': 10,\n",
       "   'min_samples_leaf': 2,\n",
       "   'max_features': 'auto',\n",
       "   'max_depth': 50,\n",
       "   'bootstrap': False},\n",
       "  {'n_estimators': 1600,\n",
       "   'min_samples_split': 5,\n",
       "   'min_samples_leaf': 1,\n",
       "   'max_features': 'sqrt',\n",
       "   'max_depth': None,\n",
       "   'bootstrap': True},\n",
       "  {'n_estimators': 400,\n",
       "   'min_samples_split': 5,\n",
       "   'min_samples_leaf': 4,\n",
       "   'max_features': 'auto',\n",
       "   'max_depth': 90,\n",
       "   'bootstrap': False},\n",
       "  {'n_estimators': 400,\n",
       "   'min_samples_split': 5,\n",
       "   'min_samples_leaf': 1,\n",
       "   'max_features': 'auto',\n",
       "   'max_depth': 110,\n",
       "   'bootstrap': False},\n",
       "  {'n_estimators': 1200,\n",
       "   'min_samples_split': 10,\n",
       "   'min_samples_leaf': 1,\n",
       "   'max_features': 'auto',\n",
       "   'max_depth': 60,\n",
       "   'bootstrap': False},\n",
       "  {'n_estimators': 1200,\n",
       "   'min_samples_split': 5,\n",
       "   'min_samples_leaf': 2,\n",
       "   'max_features': 'sqrt',\n",
       "   'max_depth': 90,\n",
       "   'bootstrap': False},\n",
       "  {'n_estimators': 800,\n",
       "   'min_samples_split': 10,\n",
       "   'min_samples_leaf': 1,\n",
       "   'max_features': 'auto',\n",
       "   'max_depth': 110,\n",
       "   'bootstrap': False},\n",
       "  {'n_estimators': 800,\n",
       "   'min_samples_split': 5,\n",
       "   'min_samples_leaf': 1,\n",
       "   'max_features': 'sqrt',\n",
       "   'max_depth': 10,\n",
       "   'bootstrap': True},\n",
       "  {'n_estimators': 1800,\n",
       "   'min_samples_split': 2,\n",
       "   'min_samples_leaf': 4,\n",
       "   'max_features': 'auto',\n",
       "   'max_depth': 10,\n",
       "   'bootstrap': True},\n",
       "  {'n_estimators': 400,\n",
       "   'min_samples_split': 10,\n",
       "   'min_samples_leaf': 2,\n",
       "   'max_features': 'sqrt',\n",
       "   'max_depth': 70,\n",
       "   'bootstrap': False},\n",
       "  {'n_estimators': 1200,\n",
       "   'min_samples_split': 5,\n",
       "   'min_samples_leaf': 1,\n",
       "   'max_features': 'sqrt',\n",
       "   'max_depth': 110,\n",
       "   'bootstrap': False},\n",
       "  {'n_estimators': 1800,\n",
       "   'min_samples_split': 10,\n",
       "   'min_samples_leaf': 1,\n",
       "   'max_features': 'sqrt',\n",
       "   'max_depth': 10,\n",
       "   'bootstrap': True},\n",
       "  {'n_estimators': 1200,\n",
       "   'min_samples_split': 5,\n",
       "   'min_samples_leaf': 4,\n",
       "   'max_features': 'sqrt',\n",
       "   'max_depth': 110,\n",
       "   'bootstrap': False},\n",
       "  {'n_estimators': 1200,\n",
       "   'min_samples_split': 5,\n",
       "   'min_samples_leaf': 1,\n",
       "   'max_features': 'auto',\n",
       "   'max_depth': 50,\n",
       "   'bootstrap': True},\n",
       "  {'n_estimators': 600,\n",
       "   'min_samples_split': 2,\n",
       "   'min_samples_leaf': 4,\n",
       "   'max_features': 'sqrt',\n",
       "   'max_depth': None,\n",
       "   'bootstrap': False},\n",
       "  {'n_estimators': 400,\n",
       "   'min_samples_split': 5,\n",
       "   'min_samples_leaf': 1,\n",
       "   'max_features': 'auto',\n",
       "   'max_depth': 50,\n",
       "   'bootstrap': True},\n",
       "  {'n_estimators': 1800,\n",
       "   'min_samples_split': 10,\n",
       "   'min_samples_leaf': 2,\n",
       "   'max_features': 'auto',\n",
       "   'max_depth': 60,\n",
       "   'bootstrap': False},\n",
       "  {'n_estimators': 1000,\n",
       "   'min_samples_split': 10,\n",
       "   'min_samples_leaf': 2,\n",
       "   'max_features': 'auto',\n",
       "   'max_depth': 110,\n",
       "   'bootstrap': True},\n",
       "  {'n_estimators': 200,\n",
       "   'min_samples_split': 5,\n",
       "   'min_samples_leaf': 1,\n",
       "   'max_features': 'auto',\n",
       "   'max_depth': None,\n",
       "   'bootstrap': True},\n",
       "  {'n_estimators': 1200,\n",
       "   'min_samples_split': 2,\n",
       "   'min_samples_leaf': 4,\n",
       "   'max_features': 'auto',\n",
       "   'max_depth': 100,\n",
       "   'bootstrap': False},\n",
       "  {'n_estimators': 2000,\n",
       "   'min_samples_split': 2,\n",
       "   'min_samples_leaf': 2,\n",
       "   'max_features': 'auto',\n",
       "   'max_depth': 20,\n",
       "   'bootstrap': True},\n",
       "  {'n_estimators': 800,\n",
       "   'min_samples_split': 10,\n",
       "   'min_samples_leaf': 4,\n",
       "   'max_features': 'sqrt',\n",
       "   'max_depth': 10,\n",
       "   'bootstrap': True},\n",
       "  {'n_estimators': 600,\n",
       "   'min_samples_split': 10,\n",
       "   'min_samples_leaf': 1,\n",
       "   'max_features': 'auto',\n",
       "   'max_depth': 110,\n",
       "   'bootstrap': False},\n",
       "  {'n_estimators': 1200,\n",
       "   'min_samples_split': 2,\n",
       "   'min_samples_leaf': 2,\n",
       "   'max_features': 'sqrt',\n",
       "   'max_depth': 110,\n",
       "   'bootstrap': True}],\n",
       " 'split0_test_score': array([0.74567474, 0.77854671, 0.81141869, 0.77854671, 0.78719723,\n",
       "        0.80622837, 0.78719723, 0.82179931, 0.81141869, 0.78546713,\n",
       "        0.73875433, 0.74221453, 0.80795848, 0.74913495, 0.78373702,\n",
       "        0.74740484, 0.74048443, 0.74048443, 0.80622837, 0.78892734,\n",
       "        0.80449827, 0.79584775, 0.79584775, 0.74221453, 0.75086505,\n",
       "        0.79584775, 0.74567474, 0.80622837, 0.83391003, 0.74048443,\n",
       "        0.76297578, 0.79930796, 0.80103806, 0.80276817, 0.80795848,\n",
       "        0.79930796, 0.73875433, 0.79584775, 0.79238754, 0.79584775,\n",
       "        0.78892734, 0.75432526, 0.79930796, 0.79238754, 0.79584775,\n",
       "        0.78892734, 0.78719723, 0.73356401, 0.78373702, 0.81141869,\n",
       "        0.78892734, 0.74221453, 0.82698962, 0.80449827, 0.83044983,\n",
       "        0.81487889, 0.74221453, 0.78892734, 0.73875433, 0.73356401,\n",
       "        0.74394464, 0.74913495, 0.77508651, 0.82698962, 0.79238754,\n",
       "        0.73702422, 0.78200692, 0.74740484, 0.74394464, 0.74221453,\n",
       "        0.74394464, 0.79238754, 0.80276817, 0.80968858, 0.79584775,\n",
       "        0.80795848, 0.75951557, 0.77508651, 0.74913495, 0.80449827,\n",
       "        0.78719723, 0.81141869, 0.78027682, 0.816609  , 0.74740484,\n",
       "        0.77681661, 0.81141869, 0.79238754, 0.74913495, 0.80276817,\n",
       "        0.74567474, 0.78200692, 0.75951557, 0.7716263 , 0.81314879,\n",
       "        0.74913495, 0.78200692, 0.73010381, 0.79411765, 0.78892734]),\n",
       " 'split1_test_score': array([0.83391003, 0.84083045, 0.83044983, 0.87543253, 0.82179931,\n",
       "        0.85121107, 0.8183391 , 0.84602076, 0.84083045, 0.87543253,\n",
       "        0.8200692 , 0.816609  , 0.84083045, 0.82698962, 0.8183391 ,\n",
       "        0.89273356, 0.90657439, 0.89965398, 0.83737024, 0.8650519 ,\n",
       "        0.82871972, 0.87197232, 0.87889273, 0.82352941, 0.88927336,\n",
       "        0.8650519 , 0.8200692 , 0.84083045, 0.87889273, 0.90311419,\n",
       "        0.8183391 , 0.87543253, 0.83737024, 0.85121107, 0.83737024,\n",
       "        0.86851211, 0.82698962, 0.86851211, 0.85121107, 0.86851211,\n",
       "        0.82179931, 0.9100346 , 0.86851211, 0.8615917 , 0.87543253,\n",
       "        0.86851211, 0.82179931, 0.90657439, 0.82179931, 0.82871972,\n",
       "        0.8615917 , 0.82352941, 0.8650519 , 0.84775087, 0.88235294,\n",
       "        0.84256055, 0.82352941, 0.8183391 , 0.8200692 , 0.90657439,\n",
       "        0.90657439, 0.82352941, 0.87889273, 0.88235294, 0.8615917 ,\n",
       "        0.90657439, 0.86851211, 0.90311419, 0.89619377, 0.82352941,\n",
       "        0.91349481, 0.8650519 , 0.8615917 , 0.84948097, 0.8615917 ,\n",
       "        0.85121107, 0.8183391 , 0.8650519 , 0.82698962, 0.82525952,\n",
       "        0.82179931, 0.84083045, 0.82352941, 0.87197232, 0.90657439,\n",
       "        0.82525952, 0.83391003, 0.87197232, 0.82352941, 0.8650519 ,\n",
       "        0.83391003, 0.87197232, 0.82179931, 0.8650519 , 0.85121107,\n",
       "        0.82352941, 0.87889273, 0.89965398, 0.82179931, 0.86851211]),\n",
       " 'split2_test_score': array([0.921875  , 0.95703125, 0.9296875 , 0.9609375 , 0.91796875,\n",
       "        0.88671875, 0.91796875, 0.93359375, 0.9296875 , 0.95703125,\n",
       "        0.92578125, 0.921875  , 0.93359375, 0.9140625 , 0.91796875,\n",
       "        0.9609375 , 0.94921875, 0.95703125, 0.890625  , 0.9609375 ,\n",
       "        0.9296875 , 0.96484375, 0.9609375 , 0.9140625 , 0.953125  ,\n",
       "        0.96484375, 0.921875  , 0.93359375, 0.9453125 , 0.953125  ,\n",
       "        0.91796875, 0.9609375 , 0.9375    , 0.953125  , 0.9375    ,\n",
       "        0.9609375 , 0.90625   , 0.95703125, 0.953125  , 0.95703125,\n",
       "        0.91796875, 0.94921875, 0.9609375 , 0.96484375, 0.953125  ,\n",
       "        0.96875   , 0.91796875, 0.94921875, 0.91796875, 0.92578125,\n",
       "        0.953125  , 0.9140625 , 0.9453125 , 0.89257812, 0.9453125 ,\n",
       "        0.93359375, 0.921875  , 0.91796875, 0.91796875, 0.953125  ,\n",
       "        0.953125  , 0.921875  , 0.96484375, 0.9453125 , 0.953125  ,\n",
       "        0.953125  , 0.96484375, 0.953125  , 0.94921875, 0.9140625 ,\n",
       "        0.94921875, 0.9609375 , 0.95703125, 0.88867188, 0.96484375,\n",
       "        0.88867188, 0.91796875, 0.9609375 , 0.91015625, 0.9296875 ,\n",
       "        0.91796875, 0.9375    , 0.91796875, 0.96484375, 0.953125  ,\n",
       "        0.91796875, 0.92578125, 0.95703125, 0.91796875, 0.96875   ,\n",
       "        0.91015625, 0.9609375 , 0.91796875, 0.953125  , 0.9609375 ,\n",
       "        0.9296875 , 0.96875   , 0.94921875, 0.9140625 , 0.9609375 ]),\n",
       " 'mean_test_score': array([0.83205882, 0.85683824, 0.85573529, 0.86985294, 0.84080882,\n",
       "        0.84727941, 0.83963235, 0.86580882, 0.85926471, 0.87095588,\n",
       "        0.82625   , 0.825     , 0.85933824, 0.82838235, 0.83845588,\n",
       "        0.86514706, 0.86375   , 0.86389706, 0.84382353, 0.86985294,\n",
       "        0.85279412, 0.87580882, 0.87691176, 0.82485294, 0.86264706,\n",
       "        0.87345588, 0.82735294, 0.85875   , 0.88485294, 0.86382353,\n",
       "        0.83139706, 0.87691176, 0.85705882, 0.86735294, 0.85941176,\n",
       "        0.87455882, 0.82235294, 0.87213235, 0.86382353, 0.87213235,\n",
       "        0.84139706, 0.86963235, 0.87455882, 0.87110294, 0.87323529,\n",
       "        0.87352941, 0.84080882, 0.86139706, 0.83963235, 0.85389706,\n",
       "        0.86617647, 0.82485294, 0.87779412, 0.84738971, 0.88485294,\n",
       "        0.86227941, 0.82735294, 0.84022059, 0.82375   , 0.86264706,\n",
       "        0.86617647, 0.82970588, 0.87110294, 0.88367647, 0.86735294,\n",
       "        0.86382353, 0.86992647, 0.86617647, 0.86139706, 0.82485294,\n",
       "        0.86727941, 0.87102941, 0.87213235, 0.84849265, 0.87227941,\n",
       "        0.84849265, 0.83022059, 0.86514706, 0.82713235, 0.85161765,\n",
       "        0.84080882, 0.86176471, 0.83904412, 0.88286765, 0.86735294,\n",
       "        0.83845588, 0.85566176, 0.87213235, 0.82845588, 0.87705882,\n",
       "        0.82830882, 0.86985294, 0.83139706, 0.86147059, 0.87338235,\n",
       "        0.83220588, 0.87470588, 0.85786765, 0.84191176, 0.87102941]),\n",
       " 'std_test_score': array([0.07155235, 0.07337262, 0.05133405, 0.07416167, 0.05482026,\n",
       "        0.03280194, 0.05525103, 0.04756041, 0.04980843, 0.06973174,\n",
       "        0.07606528, 0.07319311, 0.05271114, 0.06697058, 0.05638031,\n",
       "        0.08892976, 0.090151  , 0.09159046, 0.03457795, 0.06992373,\n",
       "        0.05368549, 0.0686702 , 0.06704405, 0.06977938, 0.08431502,\n",
       "        0.06887959, 0.07173077, 0.05328773, 0.04543296, 0.09082433,\n",
       "        0.06362361, 0.06563267, 0.05717936, 0.06213684, 0.05492357,\n",
       "        0.06576743, 0.0680872 , 0.06549454, 0.06588672, 0.06549454,\n",
       "        0.05424814, 0.08427586, 0.06576743, 0.07035187, 0.06387645,\n",
       "        0.07309952, 0.05482026, 0.09337035, 0.05598297, 0.04982543,\n",
       "        0.06674794, 0.06977938, 0.04890369, 0.03576271, 0.04667052,\n",
       "        0.05023498, 0.07299652, 0.05469607, 0.07281176, 0.09455632,\n",
       "        0.08974354, 0.07027508, 0.07724696, 0.0480503 , 0.06539275,\n",
       "        0.09295084, 0.0742415 , 0.08763211, 0.08700602, 0.06977938,\n",
       "        0.08970279, 0.06856823, 0.06308844, 0.03207628, 0.06904244,\n",
       "        0.03282891, 0.06489717, 0.07545839, 0.0653772 , 0.05423527,\n",
       "        0.05482026, 0.05335049, 0.05700328, 0.0606915 , 0.08814185,\n",
       "        0.05808735, 0.04898732, 0.06684798, 0.06864025, 0.06793996,\n",
       "        0.06690292, 0.07266449, 0.06470218, 0.07373608, 0.06207874,\n",
       "        0.07357115, 0.07588009, 0.09388346, 0.05079391, 0.06986214]),\n",
       " 'rank_test_score': array([ 83,  60,  61,  29,  73,  69,  77,  39,  56,  26,  94,  95,  55,\n",
       "         89,  80,  40,  46,  42,  70,  28,  64,   9,   7,  96,  47,  14,\n",
       "         91,  57,   1,  43,  84,   7,  59,  32,  54,  11, 100,  18,  43,\n",
       "         18,  72,  31,  11,  22,  16,  13,  73,  52,  77,  63,  36,  96,\n",
       "          5,  68,   1,  49,  91,  76,  99,  47,  36,  87,  22,   3,  32,\n",
       "         43,  27,  36,  52,  96,  35,  24,  18,  66,  17,  66,  86,  40,\n",
       "         93,  65,  73,  50,  79,   4,  32,  80,  62,  18,  88,   6,  90,\n",
       "         29,  84,  51,  15,  82,  10,  58,  71,  24], dtype=int32)}"
      ]
     },
     "execution_count": 125,
     "metadata": {},
     "output_type": "execute_result"
    }
   ],
   "source": [
    "rf_random.cv_results_"
   ]
  },
  {
   "cell_type": "code",
   "execution_count": null,
   "metadata": {},
   "outputs": [],
   "source": []
  },
  {
   "cell_type": "code",
   "execution_count": null,
   "metadata": {},
   "outputs": [],
   "source": []
  }
 ],
 "metadata": {
  "kernelspec": {
   "display_name": "Python 3",
   "language": "python",
   "name": "python3"
  },
  "language_info": {
   "codemirror_mode": {
    "name": "ipython",
    "version": 3
   },
   "file_extension": ".py",
   "mimetype": "text/x-python",
   "name": "python",
   "nbconvert_exporter": "python",
   "pygments_lexer": "ipython3",
   "version": "3.7.5"
  }
 },
 "nbformat": 4,
 "nbformat_minor": 2
}
